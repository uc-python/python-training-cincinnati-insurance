{
 "cells": [
  {
   "cell_type": "markdown",
   "metadata": {
    "slideshow": {
     "slide_type": "slide"
    }
   },
   "source": [
    "# Python and Jupyter Overview\n",
    "\n",
    "![](images/python_jupyter.png)"
   ]
  },
  {
   "cell_type": "markdown",
   "metadata": {
    "slideshow": {
     "slide_type": "slide"
    }
   },
   "source": [
    "## Python"
   ]
  },
  {
   "cell_type": "markdown",
   "metadata": {
    "slideshow": {
     "slide_type": "slide"
    }
   },
   "source": [
    "### Python is..."
   ]
  },
  {
   "cell_type": "markdown",
   "metadata": {
    "slideshow": {
     "slide_type": "fragment"
    }
   },
   "source": [
    "* a *high-level*, *structured*, *open-source*, *interpreted* programming language"
   ]
  },
  {
   "cell_type": "markdown",
   "metadata": {
    "slideshow": {
     "slide_type": "fragment"
    }
   },
   "source": [
    "* a really good choice for almost any programming task"
   ]
  },
  {
   "cell_type": "markdown",
   "metadata": {
    "slideshow": {
     "slide_type": "fragment"
    }
   },
   "source": [
    "* a very popular and effective choice for data science tasks"
   ]
  },
  {
   "attachments": {},
   "cell_type": "markdown",
   "metadata": {
    "slideshow": {
     "slide_type": "slide"
    }
   },
   "source": [
    "According to StackOverflow's Developer Survey, Python was the 4th most popular language among developers in 2022\n",
    "- And two of the three languages ahead of it aren't for \"programming\" (HTML & SQL)\n",
    "\n",
    "![SO Developer Survey](images/so-dev-survey-python.png)"
   ]
  },
  {
   "attachments": {},
   "cell_type": "markdown",
   "metadata": {
    "slideshow": {
     "slide_type": "slide"
    }
   },
   "source": [
    "### Python in the Real World"
   ]
  },
  {
   "attachments": {},
   "cell_type": "markdown",
   "metadata": {
    "slideshow": {
     "slide_type": "slide"
    }
   },
   "source": [
    "Python is common in many domains:\n",
    "\n",
    "* Web development\n",
    "* Automation\n",
    "* Testing\n",
    "* Data science"
   ]
  },
  {
   "attachments": {},
   "cell_type": "markdown",
   "metadata": {
    "slideshow": {
     "slide_type": "slide"
    }
   },
   "source": [
    "Python is a very popular language (probably the *most* popular language) for data science, for a few reasons:"
   ]
  },
  {
   "attachments": {},
   "cell_type": "markdown",
   "metadata": {
    "slideshow": {
     "slide_type": "fragment"
    }
   },
   "source": [
    "* Python has a large, rich collection of third party data wrangling, data analysis, and modeling tools.\n",
    "  * We will cover some of these, such as pandas and seaborn."
   ]
  },
  {
   "attachments": {},
   "cell_type": "markdown",
   "metadata": {
    "slideshow": {
     "slide_type": "fragment"
    }
   },
   "source": [
    "* Many deep learning frameworks, such as PyTorch and Tensorflow, have offered support for Python since their early days.\n",
    "  * This is one of the reasons Python has only risen in popularity within data science over the last few years."
   ]
  },
  {
   "cell_type": "markdown",
   "metadata": {
    "slideshow": {
     "slide_type": "slide"
    }
   },
   "source": [
    "### Why are data scientists choosing Python?"
   ]
  },
  {
   "cell_type": "markdown",
   "metadata": {
    "slideshow": {
     "slide_type": "fragment"
    }
   },
   "source": [
    "  * It can do anything...so everybody uses it\n",
    " "
   ]
  },
  {
   "cell_type": "markdown",
   "metadata": {
    "slideshow": {
     "slide_type": "fragment"
    },
    "tags": []
   },
   "source": [
    "* Consistency across engineering and data science teams"
   ]
  },
  {
   "cell_type": "markdown",
   "metadata": {
    "slideshow": {
     "slide_type": "fragment"
    }
   },
   "source": [
    "  * Open-source and community support"
   ]
  },
  {
   "cell_type": "markdown",
   "metadata": {
    "slideshow": {
     "slide_type": "fragment"
    }
   },
   "source": [
    "  * Concise syntax, readability and ease-of-use"
   ]
  },
  {
   "cell_type": "markdown",
   "metadata": {
    "slideshow": {
     "slide_type": "fragment"
    }
   },
   "source": [
    "  * Strength in numeric computations and cutting edge data science libraries"
   ]
  },
  {
   "attachments": {},
   "cell_type": "markdown",
   "metadata": {
    "slideshow": {
     "slide_type": "slide"
    }
   },
   "source": [
    "## VSCode"
   ]
  },
  {
   "attachments": {},
   "cell_type": "markdown",
   "metadata": {
    "slideshow": {
     "slide_type": "slide"
    }
   },
   "source": [
    "### VSCode"
   ]
  },
  {
   "attachments": {},
   "cell_type": "markdown",
   "metadata": {
    "slideshow": {
     "slide_type": "fragment"
    }
   },
   "source": [
    "* A language-agnostic integrated development environment (**IDE**)\n",
    "\n",
    "* The most popular IDE right now, according to surveys\n",
    "\n",
    "* Supports **notebook** files, a common format for data scientists"
   ]
  },
  {
   "attachments": {},
   "cell_type": "markdown",
   "metadata": {
    "slideshow": {
     "slide_type": "fragment"
    }
   },
   "source": [
    "![IDE Popularity](images/ide-popularity.jpg)"
   ]
  },
  {
   "attachments": {},
   "cell_type": "markdown",
   "metadata": {
    "slideshow": {
     "slide_type": "slide"
    }
   },
   "source": [
    "### Notebooks in VSCode"
   ]
  },
  {
   "attachments": {},
   "cell_type": "markdown",
   "metadata": {
    "slideshow": {
     "slide_type": "slide"
    }
   },
   "source": [
    "- Python notebooks (files with `.ipynb` extension) are designed to work with an application called **Jupyter**"
   ]
  },
  {
   "attachments": {},
   "cell_type": "markdown",
   "metadata": {
    "slideshow": {
     "slide_type": "fragment"
    }
   },
   "source": [
    "- However, VSCode can be used instead, via a [*Jupyter* Extension](https://marketplace.visualstudio.com/items?itemName=ms-toolsai.jupyter) supported by Microsoft itself.\n",
    "\n",
    "  - If you're already familiar with VSCode, or planning to use Python beyond just notebooks, it's probably a better option than Jupyter."
   ]
  },
  {
   "attachments": {},
   "cell_type": "markdown",
   "metadata": {
    "slideshow": {
     "slide_type": "fragment"
    }
   },
   "source": [
    "- You'll need to have a Python environment set up for it to run the code in.\n",
    "\n",
    "  - We'll discuss more about Python environments later in the class."
   ]
  },
  {
   "attachments": {},
   "cell_type": "markdown",
   "metadata": {
    "slideshow": {
     "slide_type": "slide"
    }
   },
   "source": [
    "### Course File Structure"
   ]
  },
  {
   "attachments": {},
   "cell_type": "markdown",
   "metadata": {
    "slideshow": {
     "slide_type": "fragment"
    }
   },
   "source": [
    "VSCode shows a file browser on the left pane (you may have to click the document icon).\n",
    "\n",
    "If you open the folder containing the course files, you'll be able to see how it's organized: we have folders such as `scripts`, `notebooks`, and `.github`.\n",
    "However, the only one that matters to you is `notebooks` -- that's where the content of the training lives.\n",
    "\n",
    "These slides, for example, were created from the `notebooks/01-Python-and-Notebooks.ipynb` file."
   ]
  },
  {
   "attachments": {},
   "cell_type": "markdown",
   "metadata": {
    "slideshow": {
     "slide_type": "slide"
    }
   },
   "source": [
    "### Python Notebooks"
   ]
  },
  {
   "cell_type": "markdown",
   "metadata": {
    "slideshow": {
     "slide_type": "fragment"
    }
   },
   "source": [
    "* Notebooks allow the writing AND running of Python code"
   ]
  },
  {
   "attachments": {},
   "cell_type": "markdown",
   "metadata": {
    "slideshow": {
     "slide_type": "fragment"
    }
   },
   "source": [
    "* Notebooks are organized by **cells** - code and commentary text goes in the cells\n",
    "  \n",
    "  * A cell can contain *either* markdown (stylized text) or Python code."
   ]
  },
  {
   "cell_type": "markdown",
   "metadata": {
    "slideshow": {
     "slide_type": "fragment"
    }
   },
   "source": [
    "* All notebook files have the extension `.ipynb` (**i**nteractive **py**thon **n**ote**b**ook)"
   ]
  },
  {
   "attachments": {},
   "cell_type": "markdown",
   "metadata": {
    "slideshow": {
     "slide_type": "slide"
    }
   },
   "source": [
    "You can create new notebooks by making a new file with a `.ipynb` extension.\n",
    "\n",
    "When you open it, VSCode is smart enough to infer that it's a notebook based on that suffix.\n"
   ]
  },
  {
   "attachments": {},
   "cell_type": "markdown",
   "metadata": {
    "slideshow": {
     "slide_type": "slide"
    }
   },
   "source": [
    "### Notebook Cells"
   ]
  },
  {
   "attachments": {},
   "cell_type": "markdown",
   "metadata": {
    "slideshow": {
     "slide_type": "fragment"
    }
   },
   "source": [
    "Notebooks are organized by **cells**. These cells are at the core of a notebook:"
   ]
  },
  {
   "cell_type": "markdown",
   "metadata": {
    "slideshow": {
     "slide_type": "fragment"
    }
   },
   "source": [
    "* When using Jupyter, all Python code is typed into and run from a cell"
   ]
  },
  {
   "attachments": {},
   "cell_type": "markdown",
   "metadata": {
    "slideshow": {
     "slide_type": "fragment"
    }
   },
   "source": [
    "* Commentary and supporting documentation can be written in markdown cells -- or, less commonly, LaTeX or HTML."
   ]
  },
  {
   "attachments": {},
   "cell_type": "markdown",
   "metadata": {
    "slideshow": {
     "slide_type": "fragment"
    }
   },
   "source": [
    "* In VSCode, you can add a new cell by hovering over an existing cell and clicking either the \"+ Code\" button or the \"+ Markdown\" button."
   ]
  },
  {
   "attachments": {},
   "cell_type": "markdown",
   "metadata": {
    "slideshow": {
     "slide_type": "fragment"
    }
   },
   "source": [
    "* You can see what type of cell you're currently editing by looking in the bottom right corner, which will say \"Markdown\" or \"Code\".\n",
    "\n",
    "  * Click on this allows you to switch the cell to another type."
   ]
  },
  {
   "attachments": {},
   "cell_type": "markdown",
   "metadata": {
    "slideshow": {
     "slide_type": "slide"
    }
   },
   "source": [
    "### Code Cells\n",
    "\n",
    "By default, all cells are code cells. This means Python code can be run by simply:\n",
    "\n",
    "1. Clicking on a cell's input area\n",
    "2. Typing Python code into the cell\n",
    "3. Pressing CTRL + RETURN (or SHIFT + RETURN)"
   ]
  },
  {
   "attachments": {},
   "cell_type": "markdown",
   "metadata": {
    "slideshow": {
     "slide_type": "fragment"
    }
   },
   "source": [
    "The results of the code will be printed below the cell."
   ]
  },
  {
   "cell_type": "markdown",
   "metadata": {
    "slideshow": {
     "slide_type": "slide"
    }
   },
   "source": [
    "#### Comment/Markdown/HTML/LaTeX Cells\n",
    "\n",
    "Cells can be converted to text-oriented cells by:\n",
    "\n",
    "1. Selecting a cell by clicking on it\n",
    "2. Clicking the \"Code\" dropdown on the edit panel\n",
    "3. Clicking the \"Markdown\" option\n",
    "\n",
    "![markdown-cell-selection.png](images/markdown-cell-selection.png)"
   ]
  },
  {
   "cell_type": "markdown",
   "metadata": {
    "slideshow": {
     "slide_type": "slide"
    }
   },
   "source": [
    "Text can then be typed into these cells (regular text, markdown, HTML, LaTeX):\n",
    "\n",
    "![markdown-cell-unrendered.png](images/markdown-cell-unrendered.png)"
   ]
  },
  {
   "cell_type": "markdown",
   "metadata": {
    "slideshow": {
     "slide_type": "slide"
    }
   },
   "source": [
    "And it can be rendered by pressing CTRL + RETURN:\n",
    "\n",
    "![markdown-cell-rendered.png](images/markdown-cell-rendered.png)"
   ]
  },
  {
   "cell_type": "markdown",
   "metadata": {
    "slideshow": {
     "slide_type": "slide"
    }
   },
   "source": [
    "#### Inserting New Cells\n",
    "\n",
    "New cells can be inserted by selecting a cell by clicking on it and\n",
    "\n",
    "* Clicking the \"+\" menu button add a new cell below the selected one\n",
    "* Or using the keyboard shortcut `\"a\"` to insert cell above or `\"b\"` to insert cell below\n",
    "\n",
    "![insert-new-cell.png](images/insert-new-cell.png)"
   ]
  },
  {
   "cell_type": "markdown",
   "metadata": {
    "slideshow": {
     "slide_type": "slide"
    }
   },
   "source": [
    "<font class=\"your_turn\">\n",
    "    Your Turn\n",
    "</font>\n",
    "\n",
    "1. Create or open a notebook in Jupyter.\n",
    "2. Create a new *markdown* cell. Write your name in it.\n",
    "3. Create a new *code* cell. Write `x = 5` and run it."
   ]
  },
  {
   "cell_type": "markdown",
   "metadata": {
    "slideshow": {
     "slide_type": "slide"
    }
   },
   "source": [
    "### Additional Tips"
   ]
  },
  {
   "cell_type": "markdown",
   "metadata": {
    "slideshow": {
     "slide_type": "fragment"
    }
   },
   "source": [
    "* Notebooks can be saved by clicking \"File\" -> \"Save Notebook As...\""
   ]
  },
  {
   "cell_type": "markdown",
   "metadata": {
    "slideshow": {
     "slide_type": "fragment"
    }
   },
   "source": [
    "* An easy way to find a feature or its related keyboard shortcut is \"View\" -> \"Activate Command Palette\""
   ]
  },
  {
   "cell_type": "markdown",
   "metadata": {
    "slideshow": {
     "slide_type": "fragment"
    }
   },
   "source": [
    "* Notebooks can be downloaded from Binder in numerous formats by clicking \"File\" -> \"Download\"\n",
    "  * This is a great way to save your work when using Binder. These notebooks can then be reloaded at any time.\n",
    "  \n",
    "     <div class=\"admonition warning alert alert-danger\">\n",
    "      <b><p class=\"first admonition-title\" style=\"font-weight: bold\">Caution!</p></b>\n",
    "      <p>New content created in Binder does not persist across sessions. Also, Binder tends to shutdown after a few minutes of inactivity. Save and download your work accordingly!</p>\n",
    "     </div>"
   ]
  },
  {
   "cell_type": "markdown",
   "metadata": {
    "slideshow": {
     "slide_type": "slide"
    }
   },
   "source": [
    "## Questions\n",
    "\n",
    "Are there any questions before moving on?"
   ]
  }
 ],
 "metadata": {
  "celltoolbar": "Slideshow",
  "kernelspec": {
   "display_name": "cincinnati-insurance-training",
   "language": "python",
   "name": "python3"
  },
  "language_info": {
   "codemirror_mode": {
    "name": "ipython",
    "version": 3
   },
   "file_extension": ".py",
   "mimetype": "text/x-python",
   "name": "python",
   "nbconvert_exporter": "python",
   "pygments_lexer": "ipython3",
   "version": "3.10.8"
  },
  "rise": {
   "autolaunch": true,
   "transition": "none"
  },
  "vscode": {
   "interpreter": {
    "hash": "ba5ff0a661ddfa1723d2baa2bfb2e9c5ab7393d2c8415aac5ec6d90d56fc9fb1"
   }
  }
 },
 "nbformat": 4,
 "nbformat_minor": 4
}
