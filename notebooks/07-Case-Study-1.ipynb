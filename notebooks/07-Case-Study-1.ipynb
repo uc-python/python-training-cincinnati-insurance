{
 "cells": [
  {
   "attachments": {},
   "cell_type": "markdown",
   "metadata": {
    "slideshow": {
     "slide_type": "slide"
    }
   },
   "source": [
    "# Case Study \\#1"
   ]
  },
  {
   "attachments": {},
   "cell_type": "markdown",
   "metadata": {
    "slideshow": {
     "slide_type": "slide"
    }
   },
   "source": [
    "## Question 1\n",
    "\n",
    "Given the equation for calculating Body Mass Index (BMI) is:\n",
    "\n",
    "$$BMI = \\frac{(\\text{weight in pounds}) \\times 703}{(\\text{height in inches})^2}$$\n",
    "\n",
    "Say an individual weighs 150 lbs and is 68 inches tall. What is their BMI?\n",
    "\n",
    "```python\n",
    "weight = ____\n",
    "height = ____\n",
    "bmi = ____\n",
    "```"
   ]
  },
  {
   "attachments": {},
   "cell_type": "markdown",
   "metadata": {
    "slideshow": {
     "slide_type": "slide"
    }
   },
   "source": [
    "## Question 2\n",
    "\n",
    "Given the area of a circle is:\n",
    "\n",
    "$$A = \\pi(\\text{diameter}/2)^2$$\n",
    "\n",
    "Say you have a 12\" diameter pizza. Compute the area of the pizza, and assign it to the variable `area`.\n",
    "\n",
    "```python\n",
    "area = ____\n",
    "```\n",
    "\n",
    "**Hint:** the `math` library contains a `pi` object to use as $\\pi$."
   ]
  },
  {
   "attachments": {},
   "cell_type": "markdown",
   "metadata": {
    "slideshow": {
     "slide_type": "fragment"
    }
   },
   "source": [
    "Now, say that the cost of the pizza was $8. Compute the cost per square inch of this pizza.\n",
    "\n",
    "```python\n",
    "cost_per_sqin = ____\n",
    "````"
   ]
  },
  {
   "attachments": {},
   "cell_type": "markdown",
   "metadata": {
    "slideshow": {
     "slide_type": "slide"
    }
   },
   "source": [
    "## Question 3\n",
    "\n",
    "Given the variable `language`, which contains a string, use `if/elif/else` to write a function that:\n",
    "\n",
    "- returns `\"I love snakes!\"` if `language` is `\"Python\"` (with any kind of capitalization)\n",
    "- returns `\"Are you a pirate?\"` if `language` is `\"R\"` (with any kind of capitalization)\n",
    "- returns `\"What is language?\"` if `language` is any other value"
   ]
  },
  {
   "attachments": {},
   "cell_type": "markdown",
   "metadata": {
    "slideshow": {
     "slide_type": "slide"
    }
   },
   "source": [
    "## Question 4\n",
    "\n",
    "Say we have the following heights (in inches) and weights (in kg) for 10 children:\n",
    "\n",
    "```python\n",
    "heights = [62, 58, 61, 61, 59, 64, 63, 61, 60, 62]\n",
    "weights = [69, 62, 57, 59, 59, 64, 56, 66, 67, 66]\n",
    "```\n",
    "\n",
    "Using the BMI formula from earlier, and the conversion of `1 kg = 2.205 lbs`, compute the BMI for each child. What is the average BMI?\n",
    "\n",
    "```python\n",
    "average_bmi = ____\n",
    "```"
   ]
  },
  {
   "attachments": {},
   "cell_type": "markdown",
   "metadata": {
    "slideshow": {
     "slide_type": "slide"
    }
   },
   "source": [
    "## Question 5\n",
    "\n",
    "Given this nested dictionary, extract the element containing `\"BANA\"`:\n",
    "\n",
    "```python\n",
    "d = {\n",
    "    \"a_list\": [1, 2, 3],\n",
    "    \"a_dict\": {\n",
    "        \"first\": [\"this\", \"is\", \"inception\"],\n",
    "        \"second\": [1, 2, 3, \"BANA\"]\n",
    "    }\n",
    "}\n",
    "```"
   ]
  },
  {
   "attachments": {},
   "cell_type": "markdown",
   "metadata": {
    "slideshow": {
     "slide_type": "slide"
    }
   },
   "source": [
    "## Question 6\n",
    "\n",
    "Create a function `divisible()` that accepts two integers (`a` and `b`), and returns `True` if `a` is divisible by `b` without a remainder. For example, `divisible(10, 3)` should return `False`, while `divisible(6, 3)` should return `True`."
   ]
  },
  {
   "attachments": {},
   "cell_type": "markdown",
   "metadata": {
    "slideshow": {
     "slide_type": "fragment"
    }
   },
   "source": [
    "Once you have created this function, run the following code. _Make sure to use the same seed values._ What is your result?"
   ]
  },
  {
   "cell_type": "code",
   "execution_count": null,
   "metadata": {
    "slideshow": {
     "slide_type": "fragment"
    },
    "tags": [
     "ci-skip"
    ]
   },
   "outputs": [],
   "source": [
    "import random\n",
    "\n",
    "random.seed(123)\n",
    "a = random.randint(10, 100)\n",
    "b = random.randint(1, 10)\n",
    "\n",
    "divisible(a, b)"
   ]
  },
  {
   "attachments": {},
   "cell_type": "markdown",
   "metadata": {
    "slideshow": {
     "slide_type": "slide"
    }
   },
   "source": [
    "## Question 7\n",
    "\n",
    "Create a function `lucky_sum` that takes a list of integers, and returns their sum. However, if one of the values is 13, then it does not count towards the sum, nor do any values to its right.\n",
    "\n",
    "For example, your function should behave as follows:\n",
    "\n",
    "```python\n",
    "lucky_sum([1, 2, 3, 4])\n",
    "10\n",
    "\n",
    "lucky_sum([1, 13, 3, 4])\n",
    "1\n",
    "\n",
    "lucky_sum([1, 3, 13, 4])\n",
    "4\n",
    "\n",
    "lucky_sum([13])\n",
    "0\n",
    "```"
   ]
  },
  {
   "attachments": {},
   "cell_type": "markdown",
   "metadata": {
    "slideshow": {
     "slide_type": "fragment"
    }
   },
   "source": [
    "Once you've created this function, run the following code. _Be sure to run the code exactly as you see it._ What is your result?"
   ]
  },
  {
   "cell_type": "code",
   "execution_count": null,
   "metadata": {
    "slideshow": {
     "slide_type": "fragment"
    },
    "tags": [
     "ci-skip"
    ]
   },
   "outputs": [],
   "source": [
    "import random\n",
    "\n",
    "random.seed(18)\n",
    "my_values = random.choices(range(1, 14), k=26)\n",
    "lucky_sum(my_values)"
   ]
  },
  {
   "attachments": {},
   "cell_type": "markdown",
   "metadata": {
    "slideshow": {
     "slide_type": "slide"
    }
   },
   "source": [
    "## Question 8\n",
    "\n",
    "Run the following code. Read and embrace this mantra throughout this workshop, and your Python code-writing lives!"
   ]
  },
  {
   "cell_type": "code",
   "execution_count": null,
   "metadata": {
    "slideshow": {
     "slide_type": "fragment"
    }
   },
   "outputs": [],
   "source": [
    "import this"
   ]
  }
 ],
 "metadata": {
  "kernelspec": {
   "display_name": "cincinnati-insurance-training",
   "language": "python",
   "name": "python3"
  },
  "language_info": {
   "name": "python",
   "version": "3.10.9 (main, Jan 11 2023, 09:18:20) [Clang 14.0.6 ]"
  },
  "orig_nbformat": 4,
  "vscode": {
   "interpreter": {
    "hash": "79aa2c5d11f12b7c57627b6a735527056c602300bf7f8df9eb7644ad79595ce0"
   }
  }
 },
 "nbformat": 4,
 "nbformat_minor": 2
}
