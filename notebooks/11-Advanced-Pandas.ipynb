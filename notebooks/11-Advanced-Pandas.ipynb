{
 "cells": [
  {
   "cell_type": "markdown",
   "id": "773e05e7-2e19-46c8-90b9-55b060bda6e9",
   "metadata": {
    "slideshow": {
     "slide_type": "slide"
    },
    "tags": []
   },
   "source": [
    "# Advanced Pandas"
   ]
  },
  {
   "cell_type": "markdown",
   "id": "75c8ad75-5b02-40d0-83e2-ae89040faada",
   "metadata": {
    "slideshow": {
     "slide_type": "slide"
    },
    "tags": []
   },
   "source": [
    "## Learning Objectives\n",
    "\n",
    "1. Learn about the difference between views and copies.\n",
    "2. Improve performance with vectorization and parallelization.\n",
    "3. Join and merge data frames together.\n",
    "4. Plot data with pandas."
   ]
  },
  {
   "cell_type": "markdown",
   "id": "f366852b-5843-40d1-acf5-f2be5d264eb5",
   "metadata": {
    "slideshow": {
     "slide_type": "slide"
    },
    "tags": []
   },
   "source": [
    "## Views vs. Copies"
   ]
  },
  {
   "cell_type": "markdown",
   "id": "6a329bd2-5389-4b09-b518-16061dc088f1",
   "metadata": {
    "slideshow": {
     "slide_type": "fragment"
    },
    "tags": []
   },
   "source": [
    "In pandas, a distinction that will probably trip everyone up at least once is that between **views** (looking at part of an existing object) and **copies** (making a new copy of an object in memory). This is a bit abstract, and even [the pandas docs](https://pandas.pydata.org/pandas-docs/stable/user_guide/indexing.html#returning-a-view-versus-a-copy) state the following:\n",
    "\n",
    "> ...it’s very hard to predict whether [an operation] will return a view or a copy.\n",
    "\n",
    "I recommend reading the following section:\n",
    "https://pandas.pydata.org/pandas-docs/stable/user_guide/indexing.html#returning-a-view-versus-a-copy\n",
    "\n",
    "It's relatively short and could save you some effort."
   ]
  },
  {
   "cell_type": "markdown",
   "id": "263f0e57-9b41-4bd2-88c2-9d48cf297a49",
   "metadata": {
    "slideshow": {
     "slide_type": "slide"
    },
    "tags": []
   },
   "source": [
    "The main takeaway is that the most common warning you’ll encounter in Pandas is the `SettingWithCopyWarning`; Pandas raises it as a warning that you might not be doing what you think you’re doing or because the operation you are performing may behave unpredictably."
   ]
  },
  {
   "cell_type": "markdown",
   "id": "e63aeb52-5d5b-4432-b3f4-4d594c9424b6",
   "metadata": {
    "slideshow": {
     "slide_type": "slide"
    },
    "tags": []
   },
   "source": [
    "As an example, say the number of seats on this particular plane was recorded incorrectly. Instead of 55 seats it should actually be 60 seats."
   ]
  },
  {
   "cell_type": "code",
   "execution_count": 1,
   "id": "1d4f906d-68f4-49c3-b56d-787e31c64566",
   "metadata": {
    "slideshow": {
     "slide_type": "fragment"
    },
    "tags": []
   },
   "outputs": [
    {
     "data": {
      "text/html": [
       "<div>\n",
       "<style scoped>\n",
       "    .dataframe tbody tr th:only-of-type {\n",
       "        vertical-align: middle;\n",
       "    }\n",
       "\n",
       "    .dataframe tbody tr th {\n",
       "        vertical-align: top;\n",
       "    }\n",
       "\n",
       "    .dataframe thead th {\n",
       "        text-align: right;\n",
       "    }\n",
       "</style>\n",
       "<table border=\"1\" class=\"dataframe\">\n",
       "  <thead>\n",
       "    <tr style=\"text-align: right;\">\n",
       "      <th></th>\n",
       "      <th>tailnum</th>\n",
       "      <th>year</th>\n",
       "      <th>type</th>\n",
       "      <th>manufacturer</th>\n",
       "      <th>model</th>\n",
       "      <th>engines</th>\n",
       "      <th>seats</th>\n",
       "      <th>speed</th>\n",
       "      <th>engine</th>\n",
       "    </tr>\n",
       "  </thead>\n",
       "  <tbody>\n",
       "    <tr>\n",
       "      <th>0</th>\n",
       "      <td>N10156</td>\n",
       "      <td>2004.0</td>\n",
       "      <td>Fixed wing multi engine</td>\n",
       "      <td>EMBRAER</td>\n",
       "      <td>EMB-145XR</td>\n",
       "      <td>2</td>\n",
       "      <td>55</td>\n",
       "      <td>NaN</td>\n",
       "      <td>Turbo-fan</td>\n",
       "    </tr>\n",
       "  </tbody>\n",
       "</table>\n",
       "</div>"
      ],
      "text/plain": [
       "  tailnum    year                     type manufacturer      model  engines  \\\n",
       "0  N10156  2004.0  Fixed wing multi engine      EMBRAER  EMB-145XR        2   \n",
       "\n",
       "   seats  speed     engine  \n",
       "0     55    NaN  Turbo-fan  "
      ]
     },
     "execution_count": 1,
     "metadata": {},
     "output_type": "execute_result"
    }
   ],
   "source": [
    "import pandas as pd\n",
    "\n",
    "planes = pd.read_csv(\"../data/planes.csv\")\n",
    "\n",
    "tailnum_of_interest = planes['tailnum'] == 'N10156'\n",
    "planes[tailnum_of_interest]"
   ]
  },
  {
   "cell_type": "markdown",
   "id": "5fd159d4-f2a6-4a5e-92c5-130bc154afbd",
   "metadata": {
    "slideshow": {
     "slide_type": "slide"
    },
    "tags": []
   },
   "source": [
    "Let's say we naively try to set the number of sets, by filtering and selecting this element in our data frame with the following bracket notation:"
   ]
  },
  {
   "cell_type": "code",
   "execution_count": 2,
   "id": "f7faf770-0a69-4f6d-be66-7ad6ec8e775c",
   "metadata": {
    "slideshow": {
     "slide_type": "fragment"
    },
    "tags": []
   },
   "outputs": [
    {
     "name": "stderr",
     "output_type": "stream",
     "text": [
      "/var/folders/hj/62925_2n77x4wf_k3c_4xz_m24r948/T/ipykernel_26781/1344183120.py:1: SettingWithCopyWarning: \n",
      "A value is trying to be set on a copy of a slice from a DataFrame.\n",
      "Try using .loc[row_indexer,col_indexer] = value instead\n",
      "\n",
      "See the caveats in the documentation: https://pandas.pydata.org/pandas-docs/stable/user_guide/indexing.html#returning-a-view-versus-a-copy\n",
      "  planes[tailnum_of_interest]['seats'] = 60\n"
     ]
    }
   ],
   "source": [
    "planes[tailnum_of_interest]['seats'] = 60"
   ]
  },
  {
   "cell_type": "markdown",
   "id": "f33d384c-c781-4086-bde5-ff4314f827d2",
   "metadata": {
    "slideshow": {
     "slide_type": "slide"
    },
    "tags": []
   },
   "source": [
    "As you can see, we get a `SettingWithCopyWarning`. Was the data frame changed?"
   ]
  },
  {
   "cell_type": "code",
   "execution_count": 3,
   "id": "137accc2-1241-4739-b753-1876cc4c26f4",
   "metadata": {
    "slideshow": {
     "slide_type": "fragment"
    },
    "tags": []
   },
   "outputs": [
    {
     "data": {
      "text/plain": [
       "0    55\n",
       "Name: seats, dtype: int64"
      ]
     },
     "execution_count": 3,
     "metadata": {},
     "output_type": "execute_result"
    }
   ],
   "source": [
    "planes[tailnum_of_interest]['seats']"
   ]
  },
  {
   "cell_type": "markdown",
   "id": "ffeedb95-9589-4d5b-a99e-e849ad2a8a78",
   "metadata": {
    "slideshow": {
     "slide_type": "slide"
    },
    "tags": []
   },
   "source": [
    "Long story short, subsetting by index creates a copy:"
   ]
  },
  {
   "cell_type": "code",
   "execution_count": 4,
   "id": "49e07a3a-c928-4e2a-9340-b853d70946c1",
   "metadata": {
    "slideshow": {
     "slide_type": "fragment"
    },
    "tags": []
   },
   "outputs": [
    {
     "data": {
      "text/plain": [
       "False"
      ]
     },
     "execution_count": 4,
     "metadata": {},
     "output_type": "execute_result"
    }
   ],
   "source": [
    "planes[tailnum_of_interest]._is_view"
   ]
  },
  {
   "cell_type": "markdown",
   "id": "392d0bc0-ad16-4aa3-99ee-a6cdb25d602a",
   "metadata": {
    "slideshow": {
     "slide_type": "fragment"
    },
    "tags": []
   },
   "source": [
    "So that when you go to set the \"seats\" column you're not operating on the original data."
   ]
  },
  {
   "cell_type": "markdown",
   "id": "e09f35e2-fac0-4a7e-875c-ac9cd86b0c68",
   "metadata": {
    "slideshow": {
     "slide_type": "fragment"
    },
    "tags": []
   },
   "source": [
    "**Note:** don't rely on `._is_view`; it is a private variable and as such could be removed at any time. I only use it here for illustrative purposes."
   ]
  },
  {
   "cell_type": "markdown",
   "id": "c7f5eaf6-519b-4f8c-886e-822a6c9b4017",
   "metadata": {
    "slideshow": {
     "slide_type": "slide"
    },
    "tags": []
   },
   "source": [
    "The way to avoid this is to never chain accessors when setting data. Instead, use a single accessor with `.loc`:"
   ]
  },
  {
   "cell_type": "code",
   "execution_count": 5,
   "id": "c5b901bf-6b25-467d-8658-77ddc74844ef",
   "metadata": {
    "slideshow": {
     "slide_type": "fragment"
    },
    "tags": []
   },
   "outputs": [
    {
     "data": {
      "text/plain": [
       "0    60\n",
       "Name: seats, dtype: int64"
      ]
     },
     "execution_count": 5,
     "metadata": {},
     "output_type": "execute_result"
    }
   ],
   "source": [
    "planes.loc[\n",
    "    tailnum_of_interest,\n",
    "    \"seats\"\n",
    "] = 60\n",
    "\n",
    "planes[tailnum_of_interest]['seats']"
   ]
  },
  {
   "cell_type": "markdown",
   "id": "b1c37013-18df-4e4b-9b48-dbb5e76fb0d7",
   "metadata": {
    "slideshow": {
     "slide_type": "fragment"
    },
    "tags": []
   },
   "source": [
    "See the linked documentation for more details."
   ]
  },
  {
   "cell_type": "markdown",
   "id": "f1015e49-e7ee-4b94-8a6c-778baabe11d3",
   "metadata": {
    "slideshow": {
     "slide_type": "fragment"
    },
    "tags": []
   },
   "source": [
    "**Optional Note:** If you check `planes.loc[tailnum_of_interest, \"seats\"]`, you'll see that it results in a copy as well, not a view. What gives? This comes down to the way assignment works in Python; pandas has overriden it such that, *when used as the left hand side of an assignment statement*, this `.loc` expression results in a view instead of a copy."
   ]
  },
  {
   "cell_type": "markdown",
   "id": "f3cdb69c-e6cc-46ee-9dca-666e6b34871f",
   "metadata": {
    "slideshow": {
     "slide_type": "slide"
    },
    "tags": []
   },
   "source": [
    "## Vectorization and Parallelization"
   ]
  },
  {
   "cell_type": "markdown",
   "id": "33fe6e3c-26bf-4013-9881-05695d6848cd",
   "metadata": {
    "slideshow": {
     "slide_type": "fragment"
    },
    "tags": []
   },
   "source": [
    "Pandas is relatively well optimized, with performance critical portions written in the compiled language Cython. But there's room for improvement on occasion."
   ]
  },
  {
   "cell_type": "markdown",
   "id": "93486a63-9d55-44fb-96d8-dc02926409fd",
   "metadata": {
    "slideshow": {
     "slide_type": "slide"
    },
    "tags": []
   },
   "source": [
    "### Vectorization"
   ]
  },
  {
   "cell_type": "markdown",
   "id": "11f51d57-292d-47ac-a384-981267eaffca",
   "metadata": {
    "slideshow": {
     "slide_type": "fragment"
    },
    "tags": []
   },
   "source": [
    "Under the hood, a pandas data frame is a multidimensional array backed by the numerical library NumPy. Let's assume we have an expensive function we wish to apply to each row of a data frame. For illustration we'll use a simple sum of squares:"
   ]
  },
  {
   "cell_type": "code",
   "execution_count": 6,
   "id": "a66c7790-1e3c-4cec-92a2-928dd6ce436c",
   "metadata": {
    "slideshow": {
     "slide_type": "fragment"
    },
    "tags": []
   },
   "outputs": [],
   "source": [
    "def sum_squares(x, y):\n",
    "    # Assume this is a much larger function,\n",
    "    # with complex, branching logic.\n",
    "    return x**2 + y**2"
   ]
  },
  {
   "cell_type": "markdown",
   "id": "246ccdff-707e-4b75-9f9d-a4aa4b2b74e8",
   "metadata": {
    "slideshow": {
     "slide_type": "slide"
    },
    "tags": []
   },
   "source": [
    "We can easily use this function with pandas:"
   ]
  },
  {
   "cell_type": "code",
   "execution_count": 7,
   "id": "ae5bd80d-5467-471c-9645-36c627f186aa",
   "metadata": {
    "slideshow": {
     "slide_type": "fragment"
    },
    "tags": []
   },
   "outputs": [
    {
     "name": "stdout",
     "output_type": "stream",
     "text": [
      "CPU times: user 39.1 ms, sys: 2.14 ms, total: 41.3 ms\n",
      "Wall time: 39.9 ms\n"
     ]
    },
    {
     "data": {
      "text/plain": [
       "0     3604\n",
       "1    33128\n",
       "2    33128\n",
       "3    33128\n",
       "4     3029\n",
       "dtype: int64"
      ]
     },
     "execution_count": 7,
     "metadata": {},
     "output_type": "execute_result"
    }
   ],
   "source": [
    "%%time\n",
    "planes.apply(\n",
    "    lambda row: sum_squares(\n",
    "        row[\"seats\"], row[\"engines\"]\n",
    "    ),\n",
    "    axis=1\n",
    ").head(5)"
   ]
  },
  {
   "cell_type": "markdown",
   "id": "89fc887a-1646-49dc-912e-54912e68a1dc",
   "metadata": {
    "slideshow": {
     "slide_type": "slide"
    },
    "tags": []
   },
   "source": [
    "But we can eke some performance out by dipping down into NumPy:"
   ]
  },
  {
   "cell_type": "code",
   "execution_count": 8,
   "id": "f3b0c5ed-9d47-4c49-80a1-1735ed4c9f63",
   "metadata": {
    "slideshow": {
     "slide_type": "fragment"
    },
    "tags": []
   },
   "outputs": [],
   "source": [
    "import numpy as np"
   ]
  },
  {
   "cell_type": "code",
   "execution_count": 9,
   "id": "64d95fb7-4a8e-47e5-baa9-049e506ce745",
   "metadata": {
    "slideshow": {
     "slide_type": "fragment"
    },
    "tags": []
   },
   "outputs": [
    {
     "name": "stdout",
     "output_type": "stream",
     "text": [
      "CPU times: user 3.5 ms, sys: 459 µs, total: 3.96 ms\n",
      "Wall time: 3.56 ms\n"
     ]
    },
    {
     "data": {
      "text/plain": [
       "array([ 3604, 33128, 33128, 33128,  3029])"
      ]
     },
     "execution_count": 9,
     "metadata": {},
     "output_type": "execute_result"
    }
   ],
   "source": [
    "%%time\n",
    "np_result = np.vectorize(sum_squares)(\n",
    "    planes[\"seats\"], planes[\"engines\"]\n",
    ")\n",
    "np_result[:5]"
   ]
  },
  {
   "cell_type": "markdown",
   "id": "a1540556-9cbe-4387-845e-8e8284073137",
   "metadata": {
    "slideshow": {
     "slide_type": "slide"
    },
    "tags": []
   },
   "source": [
    "The `vectorize()` function takes one function and converts it into a function that operates on NumPy arrays (or pandas series, which are a special case of NumPy arrays). In this case -- though this is a very silly example -- we get almost 10x the performance by using NumPy."
   ]
  },
  {
   "cell_type": "markdown",
   "id": "bfe156fd-f05f-4b81-88ee-23301b06841d",
   "metadata": {
    "slideshow": {
     "slide_type": "fragment"
    },
    "tags": []
   },
   "source": [
    "Although the result is a NumPy array rather than a pandas series, you can still assign it to a column as if it were a series:"
   ]
  },
  {
   "cell_type": "code",
   "execution_count": 10,
   "id": "d9545287-55c0-49e5-ac29-fde209036063",
   "metadata": {
    "slideshow": {
     "slide_type": "fragment"
    },
    "tags": []
   },
   "outputs": [],
   "source": [
    "planes[\"silly_col\"] = np_result"
   ]
  },
  {
   "cell_type": "markdown",
   "id": "641e85f0-1838-46fd-93ec-273bb2983744",
   "metadata": {
    "slideshow": {
     "slide_type": "slide"
    },
    "tags": []
   },
   "source": [
    "Fastest of all is to simply apply arithmetic operators to the indivudal series:"
   ]
  },
  {
   "cell_type": "code",
   "execution_count": 11,
   "id": "664bedf9-db48-4fa9-9a06-88603773e958",
   "metadata": {
    "slideshow": {
     "slide_type": "fragment"
    },
    "tags": []
   },
   "outputs": [
    {
     "name": "stdout",
     "output_type": "stream",
     "text": [
      "CPU times: user 578 µs, sys: 56 µs, total: 634 µs\n",
      "Wall time: 612 µs\n"
     ]
    },
    {
     "data": {
      "text/plain": [
       "0     3604\n",
       "1    33128\n",
       "2    33128\n",
       "3    33128\n",
       "4     3029\n",
       "dtype: int64"
      ]
     },
     "execution_count": 11,
     "metadata": {},
     "output_type": "execute_result"
    }
   ],
   "source": [
    "%%time\n",
    "(planes[\"seats\"]**2 + planes[\"engines\"]**2).head(5)"
   ]
  },
  {
   "cell_type": "markdown",
   "id": "a280d374-cdeb-443f-9c06-9efd0b451f9c",
   "metadata": {
    "slideshow": {
     "slide_type": "fragment"
    },
    "tags": []
   },
   "source": [
    "But this won't work for more complex logic."
   ]
  },
  {
   "cell_type": "markdown",
   "id": "306a33df-03ee-464a-b73a-164a0822fdde",
   "metadata": {
    "slideshow": {
     "slide_type": "slide"
    },
    "tags": []
   },
   "source": [
    "In general, there are a ton of useful functions in NumPy that work as you'd expect on pandas series and data frames. If you need to do numerical processing or linear algebra I would encourage you to read a guide, such as such as [this one](https://towardsdatascience.com/the-ultimate-beginners-guide-to-numpy-f5a2f99aef54)."
   ]
  },
  {
   "cell_type": "markdown",
   "id": "c80c3add-64d7-4a86-9db6-06487d378700",
   "metadata": {
    "slideshow": {
     "slide_type": "slide"
    },
    "tags": []
   },
   "source": [
    "### Parallelization"
   ]
  },
  {
   "cell_type": "markdown",
   "id": "9ce41e48-bc23-4ba1-87c4-b0218dc8a40b",
   "metadata": {
    "slideshow": {
     "slide_type": "fragment"
    },
    "tags": []
   },
   "source": [
    "Another way to speed up code is to use parallel processing. Pandas under the hood is single-threaded, but for some tasks we can split a series or data frame into parts and operate on multiple portions simultaneously."
   ]
  },
  {
   "cell_type": "markdown",
   "id": "029a4fee-6c8b-4d49-928d-5d8bdf46f9e5",
   "metadata": {
    "slideshow": {
     "slide_type": "fragment"
    },
    "tags": []
   },
   "source": [
    "I want you to get a sense for how this is possible, but if you don't follow all of the Python code here that's fine. Just be aware of the capability so you can research it further."
   ]
  },
  {
   "cell_type": "markdown",
   "id": "94749599-7a38-4ded-98c4-00641ad93854",
   "metadata": {
    "slideshow": {
     "slide_type": "slide"
    },
    "tags": []
   },
   "source": [
    "First, we'll import from the `multiprocessing` module built into Python. This allows us to distribute a function over a sequence of elements in parallel:"
   ]
  },
  {
   "cell_type": "code",
   "execution_count": 12,
   "id": "0eb0a707-58b7-474b-b84b-43feab4e3235",
   "metadata": {
    "slideshow": {
     "slide_type": "fragment"
    },
    "tags": []
   },
   "outputs": [],
   "source": [
    "from multiprocessing import Pool"
   ]
  },
  {
   "cell_type": "markdown",
   "id": "1facd99d-8fe2-4015-83ac-ff44dae22e9d",
   "metadata": {
    "slideshow": {
     "slide_type": "slide"
    },
    "tags": []
   },
   "source": [
    "We need a function to apply. As above, this would ordinarily be a more complex function, but we'll keep it simple:"
   ]
  },
  {
   "cell_type": "code",
   "execution_count": 15,
   "id": "c7538411-30e2-469d-9de5-5ad6bea86a6d",
   "metadata": {
    "slideshow": {
     "slide_type": "fragment"
    },
    "tags": []
   },
   "outputs": [],
   "source": [
    "def sum_squares_df(df):\n",
    "    df[\"silly_col\"] = (\n",
    "        df[\"seats\"]**2 + \n",
    "        df[\"engines\"]**2\n",
    "    )\n",
    "    return df"
   ]
  },
  {
   "cell_type": "markdown",
   "id": "f6ae4940-4c91-44e0-954a-75f6abb826fc",
   "metadata": {
    "slideshow": {
     "slide_type": "fragment"
    },
    "tags": []
   },
   "source": [
    "However, due to a quirk of how the Jupyter and the multiprocessing module combine, we need to import it from a file:"
   ]
  },
  {
   "cell_type": "code",
   "execution_count": 18,
   "id": "e84791f0-3aa0-442e-b2d9-27d8b7a1f35f",
   "metadata": {
    "slideshow": {
     "slide_type": "fragment"
    },
    "tags": []
   },
   "outputs": [],
   "source": [
    "import sum_squares"
   ]
  },
  {
   "cell_type": "markdown",
   "id": "a005122d-fded-475d-b1d8-69822498886e",
   "metadata": {
    "slideshow": {
     "slide_type": "slide"
    },
    "tags": []
   },
   "source": [
    "This sets up a pool of workers for parallel processing:"
   ]
  },
  {
   "cell_type": "code",
   "execution_count": 19,
   "id": "51723137-5818-49b8-969b-24821407ac1f",
   "metadata": {
    "slideshow": {
     "slide_type": "fragment"
    },
    "tags": []
   },
   "outputs": [],
   "source": [
    "cores = 4\n",
    "pool = Pool(cores)"
   ]
  },
  {
   "cell_type": "markdown",
   "id": "28281b46-92d8-425e-be31-c2c193110675",
   "metadata": {
    "slideshow": {
     "slide_type": "slide"
    },
    "tags": []
   },
   "source": [
    "Now we need to split the data frame up into 4 portions, one ofr each core. For this we'll use the `array_split()` function from NumPy, which does exactly what it says, in this case returning a list of 4 data frames:"
   ]
  },
  {
   "cell_type": "code",
   "execution_count": 20,
   "id": "42468abd-5a88-4d92-a229-af465941949d",
   "metadata": {
    "slideshow": {
     "slide_type": "fragment"
    },
    "tags": []
   },
   "outputs": [],
   "source": [
    "planes_split = np.array_split(planes, cores)"
   ]
  },
  {
   "cell_type": "markdown",
   "id": "e0fda3c0-c841-422d-a269-d279426c7071",
   "metadata": {
    "slideshow": {
     "slide_type": "slide"
    },
    "tags": []
   },
   "source": [
    "Then we distribute the function over each data frame chunk:"
   ]
  },
  {
   "cell_type": "code",
   "execution_count": 21,
   "id": "9241cef2-d596-4178-8d57-385958b3ba77",
   "metadata": {
    "slideshow": {
     "slide_type": "fragment"
    },
    "tags": []
   },
   "outputs": [],
   "source": [
    "split_work = pool.map(\n",
    "    sum_squares.sum_squares_df,\n",
    "    planes_split\n",
    ")"
   ]
  },
  {
   "cell_type": "markdown",
   "id": "b4c7edcd-f639-4da8-b6f6-44f57bf3bbc0",
   "metadata": {
    "slideshow": {
     "slide_type": "slide"
    },
    "tags": []
   },
   "source": [
    "Finally, we can combine the results back into one data frame, using the `concat()` function:"
   ]
  },
  {
   "cell_type": "code",
   "execution_count": 22,
   "id": "6cd122d7-f54d-4f8c-bdb6-2918a093ff06",
   "metadata": {},
   "outputs": [],
   "source": [
    "df = pd.concat(split_work)"
   ]
  },
  {
   "cell_type": "markdown",
   "id": "4584e2da-51f0-4426-92f6-546ff1d77279",
   "metadata": {
    "slideshow": {
     "slide_type": "fragment"
    },
    "tags": []
   },
   "source": [
    "We'll also need to clean up after ourselves, because we've opened multiple processes:"
   ]
  },
  {
   "cell_type": "code",
   "execution_count": 24,
   "id": "7e3bf483-3395-4eae-a588-1d7a5d7b52a4",
   "metadata": {
    "slideshow": {
     "slide_type": "fragment"
    },
    "tags": []
   },
   "outputs": [],
   "source": [
    "pool.close()\n",
    "pool.join()"
   ]
  },
  {
   "cell_type": "markdown",
   "id": "96560f76-cded-4aff-8df8-2237b470c8c8",
   "metadata": {
    "slideshow": {
     "slide_type": "slide"
    },
    "tags": []
   },
   "source": [
    "Although this is cumbersome, we could convert it to a reusable function:"
   ]
  },
  {
   "cell_type": "code",
   "execution_count": 26,
   "id": "6d060d59-6266-47e3-86ed-34a1660237ee",
   "metadata": {
    "slideshow": {
     "slide_type": "fragment"
    },
    "tags": []
   },
   "outputs": [],
   "source": [
    "def parallel_apply(\n",
    "    df, func, cores\n",
    "):\n",
    "    pool = Pool(cores)\n",
    "    splits = np.array_split(df, cores)\n",
    "    split_work = pool.map(\n",
    "        func, splits\n",
    "    )\n",
    "    df = pd.concat(split_work)\n",
    "    pool.close()\n",
    "    pool.join()\n",
    "    \n",
    "    return df"
   ]
  },
  {
   "cell_type": "markdown",
   "id": "583c43c1-698a-4566-9516-056e7f1a8602",
   "metadata": {
    "slideshow": {
     "slide_type": "slide"
    },
    "tags": []
   },
   "source": [
    "Something to note here is how much extra work we're doing to apply a function in parallel:\n",
    "\n",
    "* Split the data frame into N copies\n",
    "* Fork 4 new Python processes\n",
    "* Run the function N times\n",
    "* Concatenate the results back into one data frame\n",
    "* Clean up"
   ]
  },
  {
   "cell_type": "markdown",
   "id": "033d7990-8f94-4461-b7e7-6be899bb4f3e",
   "metadata": {
    "slideshow": {
     "slide_type": "fragment"
    },
    "tags": []
   },
   "source": [
    "In other words: you should only do this if the code you're parallelizing is sufficiently time-intensive to make it worthwhile. Otherwise you could easily end up taking more time than you would if you'd remained single-threaded."
   ]
  },
  {
   "cell_type": "markdown",
   "id": "c5027eb8-bc68-4b4f-bb27-3b0f3f1a1cbc",
   "metadata": {
    "slideshow": {
     "slide_type": "slide"
    },
    "tags": []
   },
   "source": [
    "**Note:** In general, if you have a substantial amount of data and wish to leverage multiple cores or CPUs, you might be better served investigating a library that is built from the ground up to allow for distributed processing. Dask and PySpark are two possible alternatives in this space."
   ]
  },
  {
   "cell_type": "markdown",
   "id": "932e9eec-e941-455b-9824-42d1827e55bd",
   "metadata": {
    "slideshow": {
     "slide_type": "slide"
    },
    "tags": []
   },
   "source": [
    "## Joining Data Frames"
   ]
  },
  {
   "cell_type": "markdown",
   "id": "6c7e7b8e-cd33-459e-a9f7-2586f1de56b1",
   "metadata": {
    "slideshow": {
     "slide_type": "fragment"
    },
    "tags": []
   },
   "source": [
    "It's quite common to have mulitple data frames that need to be joined together. Consider the example of one \"fact\" table and multiple \"dimension\" tables, all stored separately:"
   ]
  },
  {
   "cell_type": "code",
   "execution_count": 27,
   "id": "65fd9fda-a979-432e-9428-97d386e37e21",
   "metadata": {
    "slideshow": {
     "slide_type": "fragment"
    },
    "tags": []
   },
   "outputs": [],
   "source": [
    "fact = (\n",
    "    pd.DataFrame({\n",
    "        'dim_id': [1, 2, 3], \n",
    "        'val_x': ['x1', 'x2', 'x3']\n",
    "    })\n",
    ")\n",
    "dim = (\n",
    "    pd.DataFrame({\n",
    "        'dim_id': [1, 2, 4], \n",
    "        'val_y': ['y1', 'y2', 'y4']\n",
    "    })\n",
    ")"
   ]
  },
  {
   "cell_type": "markdown",
   "id": "6500446b-2240-4d51-b875-604b7a5021d7",
   "metadata": {
    "slideshow": {
     "slide_type": "fragment"
    },
    "tags": []
   },
   "source": [
    "We have several different options:"
   ]
  },
  {
   "cell_type": "markdown",
   "id": "f80d7d0f-fddd-4e49-885b-0fa6b6b407eb",
   "metadata": {
    "slideshow": {
     "slide_type": "slide"
    },
    "tags": []
   },
   "source": [
    "### Inner Join\n",
    "\n",
    "An inner join matches pairs of observations whenever their keys are equal. We can do an inner join with the `merge` method:"
   ]
  },
  {
   "cell_type": "code",
   "execution_count": 40,
   "id": "e39c28e8-f281-40dd-823c-313d031f6867",
   "metadata": {
    "slideshow": {
     "slide_type": "fragment"
    },
    "tags": []
   },
   "outputs": [
    {
     "data": {
      "text/html": [
       "<div>\n",
       "<style scoped>\n",
       "    .dataframe tbody tr th:only-of-type {\n",
       "        vertical-align: middle;\n",
       "    }\n",
       "\n",
       "    .dataframe tbody tr th {\n",
       "        vertical-align: top;\n",
       "    }\n",
       "\n",
       "    .dataframe thead th {\n",
       "        text-align: right;\n",
       "    }\n",
       "</style>\n",
       "<table border=\"1\" class=\"dataframe\">\n",
       "  <thead>\n",
       "    <tr style=\"text-align: right;\">\n",
       "      <th></th>\n",
       "      <th>dim_id</th>\n",
       "      <th>val_x</th>\n",
       "      <th>val_y</th>\n",
       "    </tr>\n",
       "  </thead>\n",
       "  <tbody>\n",
       "    <tr>\n",
       "      <th>0</th>\n",
       "      <td>1</td>\n",
       "      <td>x1</td>\n",
       "      <td>y1</td>\n",
       "    </tr>\n",
       "    <tr>\n",
       "      <th>1</th>\n",
       "      <td>2</td>\n",
       "      <td>x2</td>\n",
       "      <td>y2</td>\n",
       "    </tr>\n",
       "  </tbody>\n",
       "</table>\n",
       "</div>"
      ],
      "text/plain": [
       "   dim_id val_x val_y\n",
       "0       1    x1    y1\n",
       "1       2    x2    y2"
      ]
     },
     "execution_count": 40,
     "metadata": {},
     "output_type": "execute_result"
    }
   ],
   "source": [
    "inner = (\n",
    "    fact.merge(\n",
    "        dim,\n",
    "        how=\"inner\",\n",
    "        on=\"dim_id\"\n",
    "    )\n",
    ")\n",
    "inner"
   ]
  },
  {
   "cell_type": "markdown",
   "id": "0f6095c2-8f50-47c4-a38d-b999abe80837",
   "metadata": {
    "slideshow": {
     "slide_type": "fragment"
    },
    "tags": []
   },
   "source": [
    "Notice that the non-matching `dim_id`s are not represented here."
   ]
  },
  {
   "cell_type": "markdown",
   "id": "81009358-5fd1-4d55-9833-16b39ca08983",
   "metadata": {
    "slideshow": {
     "slide_type": "slide"
    },
    "tags": []
   },
   "source": [
    "### Outer Join"
   ]
  },
  {
   "cell_type": "markdown",
   "id": "7f2f0f09-5f4b-48af-be00-29b81286626c",
   "metadata": {
    "slideshow": {
     "slide_type": "fragment"
    },
    "tags": []
   },
   "source": [
    "An inner join keeps observations that appear in both tables. However, we often want to retain all observations in at least one of the tables. Consequently, we can apply various outer joins to retain observations that appear in at least one of the tables. There are three main types of outer joins:\n",
    "\n",
    "* A left join keeps all observations in x.\n",
    "* A right join keeps all observations in y.\n",
    "* A full join keeps all observations in x and y."
   ]
  },
  {
   "cell_type": "markdown",
   "id": "2f9c6bbb-cae4-4bfc-a1e7-b5f401447cd7",
   "metadata": {
    "slideshow": {
     "slide_type": "slide"
    },
    "tags": []
   },
   "source": [
    "#### Left Outer Join"
   ]
  },
  {
   "cell_type": "markdown",
   "id": "b7c36aed-6d99-43d2-bafd-99c98d208b4c",
   "metadata": {
    "slideshow": {
     "slide_type": "fragment"
    },
    "tags": []
   },
   "source": [
    "With a left join we retain all observations from `fact`, and we add columns `dim`. Rows in `fact` where there is no matching key value in `dim` will have `NaN` values in the new columns. We can use a left (outer) join by specifying `how=\"left\"`:"
   ]
  },
  {
   "cell_type": "code",
   "execution_count": 33,
   "id": "74a4747b-6f79-4845-95e9-be544be10ab2",
   "metadata": {
    "slideshow": {
     "slide_type": "fragment"
    },
    "tags": []
   },
   "outputs": [
    {
     "data": {
      "text/html": [
       "<div>\n",
       "<style scoped>\n",
       "    .dataframe tbody tr th:only-of-type {\n",
       "        vertical-align: middle;\n",
       "    }\n",
       "\n",
       "    .dataframe tbody tr th {\n",
       "        vertical-align: top;\n",
       "    }\n",
       "\n",
       "    .dataframe thead th {\n",
       "        text-align: right;\n",
       "    }\n",
       "</style>\n",
       "<table border=\"1\" class=\"dataframe\">\n",
       "  <thead>\n",
       "    <tr style=\"text-align: right;\">\n",
       "      <th></th>\n",
       "      <th>dim_id</th>\n",
       "      <th>val_x</th>\n",
       "      <th>val_y</th>\n",
       "    </tr>\n",
       "  </thead>\n",
       "  <tbody>\n",
       "    <tr>\n",
       "      <th>0</th>\n",
       "      <td>1</td>\n",
       "      <td>x1</td>\n",
       "      <td>y1</td>\n",
       "    </tr>\n",
       "    <tr>\n",
       "      <th>1</th>\n",
       "      <td>2</td>\n",
       "      <td>x2</td>\n",
       "      <td>y2</td>\n",
       "    </tr>\n",
       "    <tr>\n",
       "      <th>2</th>\n",
       "      <td>3</td>\n",
       "      <td>x3</td>\n",
       "      <td>NaN</td>\n",
       "    </tr>\n",
       "  </tbody>\n",
       "</table>\n",
       "</div>"
      ],
      "text/plain": [
       "   dim_id val_x val_y\n",
       "0       1    x1    y1\n",
       "1       2    x2    y2\n",
       "2       3    x3   NaN"
      ]
     },
     "execution_count": 33,
     "metadata": {},
     "output_type": "execute_result"
    }
   ],
   "source": [
    "left = (\n",
    "    fact.merge(\n",
    "        dim,\n",
    "        how=\"left\",\n",
    "        on=\"dim_id\"\n",
    "    )\n",
    ")\n",
    "left"
   ]
  },
  {
   "cell_type": "markdown",
   "id": "b351d2eb-67a6-49b2-9f12-6b69091bcbab",
   "metadata": {
    "slideshow": {
     "slide_type": "slide"
    },
    "tags": []
   },
   "source": [
    "#### Right Outer Join"
   ]
  },
  {
   "cell_type": "markdown",
   "id": "4bec27b9-26a5-45ad-bd1e-38cffcd9e524",
   "metadata": {
    "slideshow": {
     "slide_type": "fragment"
    },
    "tags": []
   },
   "source": [
    "A right join is just a flipped left join where we retain all observations from `dim`, and we add columns from `fact`. Similar to a left join, rows in `dim` where there is no matching key value in `fact` will have NaN values in the new columns:"
   ]
  },
  {
   "cell_type": "code",
   "execution_count": 34,
   "id": "fb922e4e-6188-4723-923e-a0c109f8d09a",
   "metadata": {
    "slideshow": {
     "slide_type": "fragment"
    },
    "tags": []
   },
   "outputs": [
    {
     "data": {
      "text/html": [
       "<div>\n",
       "<style scoped>\n",
       "    .dataframe tbody tr th:only-of-type {\n",
       "        vertical-align: middle;\n",
       "    }\n",
       "\n",
       "    .dataframe tbody tr th {\n",
       "        vertical-align: top;\n",
       "    }\n",
       "\n",
       "    .dataframe thead th {\n",
       "        text-align: right;\n",
       "    }\n",
       "</style>\n",
       "<table border=\"1\" class=\"dataframe\">\n",
       "  <thead>\n",
       "    <tr style=\"text-align: right;\">\n",
       "      <th></th>\n",
       "      <th>dim_id</th>\n",
       "      <th>val_x</th>\n",
       "      <th>val_y</th>\n",
       "    </tr>\n",
       "  </thead>\n",
       "  <tbody>\n",
       "    <tr>\n",
       "      <th>0</th>\n",
       "      <td>1</td>\n",
       "      <td>x1</td>\n",
       "      <td>y1</td>\n",
       "    </tr>\n",
       "    <tr>\n",
       "      <th>1</th>\n",
       "      <td>2</td>\n",
       "      <td>x2</td>\n",
       "      <td>y2</td>\n",
       "    </tr>\n",
       "    <tr>\n",
       "      <th>2</th>\n",
       "      <td>4</td>\n",
       "      <td>NaN</td>\n",
       "      <td>y4</td>\n",
       "    </tr>\n",
       "  </tbody>\n",
       "</table>\n",
       "</div>"
      ],
      "text/plain": [
       "   dim_id val_x val_y\n",
       "0       1    x1    y1\n",
       "1       2    x2    y2\n",
       "2       4   NaN    y4"
      ]
     },
     "execution_count": 34,
     "metadata": {},
     "output_type": "execute_result"
    }
   ],
   "source": [
    "right = (\n",
    "    fact.merge(\n",
    "        dim,\n",
    "        how=\"right\",\n",
    "        on=\"dim_id\"\n",
    "    )\n",
    ")\n",
    "right"
   ]
  },
  {
   "cell_type": "markdown",
   "id": "efc8e6bf-5ad6-49a7-9ec7-b2fb05b03cc4",
   "metadata": {
    "slideshow": {
     "slide_type": "slide"
    },
    "tags": []
   },
   "source": [
    "#### Full Outer Join"
   ]
  },
  {
   "cell_type": "markdown",
   "id": "d2daa314-00fa-4c91-bcf4-b68b3e4e72cb",
   "metadata": {
    "slideshow": {
     "slide_type": "fragment"
    },
    "tags": []
   },
   "source": [
    "We can also perform a full outer join where we keep all observations in `fact` and `dim`. This join will match observations where the key variable(s) have matching information in both tables and then fill in non-matching values as NaN."
   ]
  },
  {
   "cell_type": "code",
   "execution_count": 35,
   "id": "54fbc515-b76e-4552-940f-50c977300734",
   "metadata": {
    "slideshow": {
     "slide_type": "fragment"
    },
    "tags": []
   },
   "outputs": [
    {
     "data": {
      "text/html": [
       "<div>\n",
       "<style scoped>\n",
       "    .dataframe tbody tr th:only-of-type {\n",
       "        vertical-align: middle;\n",
       "    }\n",
       "\n",
       "    .dataframe tbody tr th {\n",
       "        vertical-align: top;\n",
       "    }\n",
       "\n",
       "    .dataframe thead th {\n",
       "        text-align: right;\n",
       "    }\n",
       "</style>\n",
       "<table border=\"1\" class=\"dataframe\">\n",
       "  <thead>\n",
       "    <tr style=\"text-align: right;\">\n",
       "      <th></th>\n",
       "      <th>dim_id</th>\n",
       "      <th>val_x</th>\n",
       "      <th>val_y</th>\n",
       "    </tr>\n",
       "  </thead>\n",
       "  <tbody>\n",
       "    <tr>\n",
       "      <th>0</th>\n",
       "      <td>1</td>\n",
       "      <td>x1</td>\n",
       "      <td>y1</td>\n",
       "    </tr>\n",
       "    <tr>\n",
       "      <th>1</th>\n",
       "      <td>2</td>\n",
       "      <td>x2</td>\n",
       "      <td>y2</td>\n",
       "    </tr>\n",
       "    <tr>\n",
       "      <th>2</th>\n",
       "      <td>3</td>\n",
       "      <td>x3</td>\n",
       "      <td>NaN</td>\n",
       "    </tr>\n",
       "    <tr>\n",
       "      <th>3</th>\n",
       "      <td>4</td>\n",
       "      <td>NaN</td>\n",
       "      <td>y4</td>\n",
       "    </tr>\n",
       "  </tbody>\n",
       "</table>\n",
       "</div>"
      ],
      "text/plain": [
       "   dim_id val_x val_y\n",
       "0       1    x1    y1\n",
       "1       2    x2    y2\n",
       "2       3    x3   NaN\n",
       "3       4   NaN    y4"
      ]
     },
     "execution_count": 35,
     "metadata": {},
     "output_type": "execute_result"
    }
   ],
   "source": [
    "outer = (\n",
    "    fact.merge(\n",
    "        dim,\n",
    "        how=\"outer\",\n",
    "        on=\"dim_id\"\n",
    "    )\n",
    ")\n",
    "outer"
   ]
  },
  {
   "cell_type": "markdown",
   "id": "d9cbbe72-71fc-40ce-aebe-8b4a42b197b1",
   "metadata": {
    "slideshow": {
     "slide_type": "slide"
    },
    "tags": []
   },
   "source": [
    "### Differing Keys"
   ]
  },
  {
   "cell_type": "markdown",
   "id": "148b7df5-86d6-428a-a07d-ac8b440390ec",
   "metadata": {
    "slideshow": {
     "slide_type": "fragment"
    },
    "tags": []
   },
   "source": [
    "In the above cases `fact` and `dim` have been joined on the same column name. If you wish to join on columns that are named differently, you can do so with `left_on` and `right_on`:"
   ]
  },
  {
   "cell_type": "code",
   "execution_count": 38,
   "id": "744dc088-0457-4032-b1c5-366a9e42502a",
   "metadata": {
    "slideshow": {
     "slide_type": "slide"
    },
    "tags": []
   },
   "outputs": [
    {
     "data": {
      "text/html": [
       "<div>\n",
       "<style scoped>\n",
       "    .dataframe tbody tr th:only-of-type {\n",
       "        vertical-align: middle;\n",
       "    }\n",
       "\n",
       "    .dataframe tbody tr th {\n",
       "        vertical-align: top;\n",
       "    }\n",
       "\n",
       "    .dataframe thead th {\n",
       "        text-align: right;\n",
       "    }\n",
       "</style>\n",
       "<table border=\"1\" class=\"dataframe\">\n",
       "  <thead>\n",
       "    <tr style=\"text-align: right;\">\n",
       "      <th></th>\n",
       "      <th>fact_id</th>\n",
       "      <th>val_x</th>\n",
       "      <th>dim_id</th>\n",
       "      <th>val_y</th>\n",
       "    </tr>\n",
       "  </thead>\n",
       "  <tbody>\n",
       "    <tr>\n",
       "      <th>0</th>\n",
       "      <td>1</td>\n",
       "      <td>x1</td>\n",
       "      <td>1</td>\n",
       "      <td>y1</td>\n",
       "    </tr>\n",
       "    <tr>\n",
       "      <th>1</th>\n",
       "      <td>2</td>\n",
       "      <td>x2</td>\n",
       "      <td>2</td>\n",
       "      <td>y2</td>\n",
       "    </tr>\n",
       "  </tbody>\n",
       "</table>\n",
       "</div>"
      ],
      "text/plain": [
       "   fact_id val_x  dim_id val_y\n",
       "0        1    x1       1    y1\n",
       "1        2    x2       2    y2"
      ]
     },
     "execution_count": 38,
     "metadata": {},
     "output_type": "execute_result"
    }
   ],
   "source": [
    "fact_renamed = (\n",
    "    fact.rename(\n",
    "        columns={\"dim_id\": \"fact_id\"}\n",
    "    )\n",
    ")\n",
    "\n",
    "merge_different_cols = (\n",
    "    fact_renamed.merge(\n",
    "        dim,\n",
    "        how=\"inner\",\n",
    "        left_on=\"fact_id\",\n",
    "        right_on=\"dim_id\"\n",
    "    )\n",
    ")\n",
    "merge_different_cols"
   ]
  },
  {
   "cell_type": "markdown",
   "id": "1fc63685-5ec8-47da-8e85-ae08f36c5b22",
   "metadata": {
    "slideshow": {
     "slide_type": "fragment"
    },
    "tags": []
   },
   "source": [
    "As you can see, this will retain all joining columns."
   ]
  },
  {
   "cell_type": "markdown",
   "id": "8eeb3e0e-dbec-48da-b869-81ea1054afe7",
   "metadata": {
    "slideshow": {
     "slide_type": "slide"
    },
    "tags": []
   },
   "source": [
    "### Multiple Keys"
   ]
  },
  {
   "cell_type": "markdown",
   "id": "5877a7fd-d2a8-4626-b071-b0df1f4ce082",
   "metadata": {
    "slideshow": {
     "slide_type": "fragment"
    },
    "tags": []
   },
   "source": [
    "If you wish to join on multiple columns at once, simply pass a list to the `on` parameter(s):"
   ]
  },
  {
   "cell_type": "code",
   "execution_count": 39,
   "id": "4ef324db-c4a8-4f15-a50d-d14a824f5e8a",
   "metadata": {
    "slideshow": {
     "slide_type": "fragment"
    },
    "tags": []
   },
   "outputs": [
    {
     "data": {
      "text/html": [
       "<div>\n",
       "<style scoped>\n",
       "    .dataframe tbody tr th:only-of-type {\n",
       "        vertical-align: middle;\n",
       "    }\n",
       "\n",
       "    .dataframe tbody tr th {\n",
       "        vertical-align: top;\n",
       "    }\n",
       "\n",
       "    .dataframe thead th {\n",
       "        text-align: right;\n",
       "    }\n",
       "</style>\n",
       "<table border=\"1\" class=\"dataframe\">\n",
       "  <thead>\n",
       "    <tr style=\"text-align: right;\">\n",
       "      <th></th>\n",
       "      <th>dim_id</th>\n",
       "      <th>val_x</th>\n",
       "      <th>dim_id2</th>\n",
       "      <th>val_y</th>\n",
       "    </tr>\n",
       "  </thead>\n",
       "  <tbody>\n",
       "    <tr>\n",
       "      <th>0</th>\n",
       "      <td>1</td>\n",
       "      <td>x1</td>\n",
       "      <td>1</td>\n",
       "      <td>y1</td>\n",
       "    </tr>\n",
       "    <tr>\n",
       "      <th>1</th>\n",
       "      <td>2</td>\n",
       "      <td>x2</td>\n",
       "      <td>2</td>\n",
       "      <td>y2</td>\n",
       "    </tr>\n",
       "  </tbody>\n",
       "</table>\n",
       "</div>"
      ],
      "text/plain": [
       "   dim_id val_x  dim_id2 val_y\n",
       "0       1    x1        1    y1\n",
       "1       2    x2        2    y2"
      ]
     },
     "execution_count": 39,
     "metadata": {},
     "output_type": "execute_result"
    }
   ],
   "source": [
    "# `assign()` creates a new column and\n",
    "# returns a new data frame with that column:\n",
    "fact_new_col = fact.assign(\n",
    "    dim_id2=[1, 2, 3]\n",
    ")\n",
    "dim_new_col = dim.assign(\n",
    "    dim_id2=[1, 2, 3]\n",
    ")\n",
    "\n",
    "fact_new_col.merge(\n",
    "    dim_new_col,\n",
    "    how=\"inner\",\n",
    "    on=[\"dim_id\", \"dim_id2\"]\n",
    ")"
   ]
  },
  {
   "cell_type": "markdown",
   "id": "c935eed4-1a28-4d84-964d-f0412b6ceb98",
   "metadata": {
    "slideshow": {
     "slide_type": "slide"
    },
    "tags": []
   },
   "source": [
    "### `join()` vs `merge()`"
   ]
  },
  {
   "cell_type": "markdown",
   "id": "faec1da5-30a4-40cb-98b3-a8b2264acc41",
   "metadata": {
    "slideshow": {
     "slide_type": "fragment"
    },
    "tags": []
   },
   "source": [
    "Finally, you might encounter a second way to join two data frames: with the (appropriately named) `join()` method. This differs from `merge()` in that it requires you to join on the *index* rather than on one or more named columns:"
   ]
  },
  {
   "cell_type": "code",
   "execution_count": 41,
   "id": "2f33275a-60dc-43ca-a702-a23ac9256bb3",
   "metadata": {
    "slideshow": {
     "slide_type": "fragment"
    },
    "tags": []
   },
   "outputs": [
    {
     "data": {
      "text/html": [
       "<div>\n",
       "<style scoped>\n",
       "    .dataframe tbody tr th:only-of-type {\n",
       "        vertical-align: middle;\n",
       "    }\n",
       "\n",
       "    .dataframe tbody tr th {\n",
       "        vertical-align: top;\n",
       "    }\n",
       "\n",
       "    .dataframe thead th {\n",
       "        text-align: right;\n",
       "    }\n",
       "</style>\n",
       "<table border=\"1\" class=\"dataframe\">\n",
       "  <thead>\n",
       "    <tr style=\"text-align: right;\">\n",
       "      <th></th>\n",
       "      <th>val_x</th>\n",
       "    </tr>\n",
       "    <tr>\n",
       "      <th>dim_id</th>\n",
       "      <th></th>\n",
       "    </tr>\n",
       "  </thead>\n",
       "  <tbody>\n",
       "    <tr>\n",
       "      <th>1</th>\n",
       "      <td>x1</td>\n",
       "    </tr>\n",
       "    <tr>\n",
       "      <th>2</th>\n",
       "      <td>x2</td>\n",
       "    </tr>\n",
       "    <tr>\n",
       "      <th>3</th>\n",
       "      <td>x3</td>\n",
       "    </tr>\n",
       "  </tbody>\n",
       "</table>\n",
       "</div>"
      ],
      "text/plain": [
       "       val_x\n",
       "dim_id      \n",
       "1         x1\n",
       "2         x2\n",
       "3         x3"
      ]
     },
     "execution_count": 41,
     "metadata": {},
     "output_type": "execute_result"
    }
   ],
   "source": [
    "fact_index = fact.set_index(\"dim_id\")\n",
    "dim_index = dim.set_index(\"dim_id\")\n",
    "\n",
    "# Remember, these new data frames are now\n",
    "# indexed by \"dim_id\" rather than row\n",
    "# number:\n",
    "fact_index"
   ]
  },
  {
   "cell_type": "code",
   "execution_count": 43,
   "id": "bcbf0450-c0fe-4b93-ad30-0d2068065d79",
   "metadata": {
    "slideshow": {
     "slide_type": "slide"
    },
    "tags": []
   },
   "outputs": [
    {
     "data": {
      "text/html": [
       "<div>\n",
       "<style scoped>\n",
       "    .dataframe tbody tr th:only-of-type {\n",
       "        vertical-align: middle;\n",
       "    }\n",
       "\n",
       "    .dataframe tbody tr th {\n",
       "        vertical-align: top;\n",
       "    }\n",
       "\n",
       "    .dataframe thead th {\n",
       "        text-align: right;\n",
       "    }\n",
       "</style>\n",
       "<table border=\"1\" class=\"dataframe\">\n",
       "  <thead>\n",
       "    <tr style=\"text-align: right;\">\n",
       "      <th></th>\n",
       "      <th>val_x</th>\n",
       "      <th>val_y</th>\n",
       "    </tr>\n",
       "    <tr>\n",
       "      <th>dim_id</th>\n",
       "      <th></th>\n",
       "      <th></th>\n",
       "    </tr>\n",
       "  </thead>\n",
       "  <tbody>\n",
       "    <tr>\n",
       "      <th>1</th>\n",
       "      <td>x1</td>\n",
       "      <td>y1</td>\n",
       "    </tr>\n",
       "    <tr>\n",
       "      <th>2</th>\n",
       "      <td>x2</td>\n",
       "      <td>y2</td>\n",
       "    </tr>\n",
       "  </tbody>\n",
       "</table>\n",
       "</div>"
      ],
      "text/plain": [
       "       val_x val_y\n",
       "dim_id            \n",
       "1         x1    y1\n",
       "2         x2    y2"
      ]
     },
     "execution_count": 43,
     "metadata": {},
     "output_type": "execute_result"
    }
   ],
   "source": [
    "inner_join = (\n",
    "    fact_index\n",
    "    .join(\n",
    "        # no \"on\" argument\n",
    "        dim_index,\n",
    "        how=\"inner\"\n",
    "    )\n",
    ")\n",
    "\n",
    "inner_join"
   ]
  },
  {
   "cell_type": "markdown",
   "id": "c2c4d783-3892-4747-a3fd-c70c830f0500",
   "metadata": {
    "slideshow": {
     "slide_type": "slide"
    },
    "tags": []
   },
   "source": [
    "There is essentially no difference between `join()` and `merge()`: they perform equivalently in most cases and offer the same kinds of join. It's just a question of whether you're joining on the index or columns."
   ]
  },
  {
   "cell_type": "markdown",
   "id": "feb91895-0545-4dcb-948b-d6c4de08147a",
   "metadata": {
    "slideshow": {
     "slide_type": "slide"
    },
    "tags": []
   },
   "source": [
    "## Plotting in Pandas"
   ]
  },
  {
   "cell_type": "markdown",
   "id": "f233adcc-238b-4a57-9e03-2121d3d3d35d",
   "metadata": {
    "slideshow": {
     "slide_type": "fragment"
    },
    "tags": []
   },
   "source": [
    "The Python visualization ecosystem is extensive. You'll come across various libraries such as Matplotlib, Seaborn, Plotly and others. (See the [PyViz](https://pyviz.org/index.html) website for more information on plotting capabilities in Python.)"
   ]
  },
  {
   "cell_type": "markdown",
   "id": "30512305-06c5-452e-b39d-ee9d1cf48dfb",
   "metadata": {
    "slideshow": {
     "slide_type": "slide"
    },
    "tags": []
   },
   "source": [
    "However, since we are focusing on pandas here, we'll stick with the plotting libraries that are native to that library (which use Matplotlib as a backend)."
   ]
  },
  {
   "cell_type": "markdown",
   "id": "23be738f-b24e-4587-b080-d2da7d0e994c",
   "metadata": {
    "slideshow": {
     "slide_type": "fragment"
    },
    "tags": []
   },
   "source": [
    "Fair warning, as we don't have much time this will be a pretty whirlwind tour."
   ]
  },
  {
   "cell_type": "markdown",
   "id": "b25d421a-ebff-4881-9bd6-9a781948428a",
   "metadata": {
    "slideshow": {
     "slide_type": "slide"
    },
    "tags": []
   },
   "source": [
    "For this we'll use a sample of the Complete Journey data provided externally by 84.51:"
   ]
  },
  {
   "cell_type": "code",
   "execution_count": 58,
   "id": "3c942361-bca0-4374-9dd4-8394157b7806",
   "metadata": {
    "slideshow": {
     "slide_type": "fragment"
    },
    "tags": []
   },
   "outputs": [],
   "source": [
    "sales = pd.read_csv(\"../data/cj_sample.csv\")\n",
    "\n",
    "# We need to convert a string to a Timestamp\n",
    "# with `to_datetime()`:\n",
    "sales[\"transaction_timestamp\"] = (\n",
    "    pd.to_datetime(\n",
    "        sales[\"transaction_timestamp\"]\n",
    "    )\n",
    ")"
   ]
  },
  {
   "cell_type": "markdown",
   "id": "f04c8f97-9cb8-41ad-9aa6-1f8380602f26",
   "metadata": {
    "slideshow": {
     "slide_type": "slide"
    },
    "tags": []
   },
   "source": [
    "### Plotting a Series"
   ]
  },
  {
   "cell_type": "markdown",
   "id": "1eb82447-1b60-4856-aeb2-d676b6e5dd73",
   "metadata": {
    "slideshow": {
     "slide_type": "fragment"
    },
    "tags": []
   },
   "source": [
    "We can visualize the distribution of a `Series` with a histogram:"
   ]
  },
  {
   "cell_type": "code",
   "execution_count": 86,
   "id": "9220859b-0450-4e36-accb-e5706505073a",
   "metadata": {
    "slideshow": {
     "slide_type": "fragment"
    },
    "tags": []
   },
   "outputs": [
    {
     "data": {
      "image/png": "[encoded data removed]",
      "text/plain": [
       "<Figure size 640x480 with 1 Axes>"
      ]
     },
     "metadata": {},
     "output_type": "display_data"
    }
   ],
   "source": [
    "sales[\"sales_value\"].plot.hist();"
   ]
  },
  {
   "cell_type": "markdown",
   "id": "da8fd8d2-1277-4b2d-aef0-d2c0c297a978",
   "metadata": {
    "slideshow": {
     "slide_type": "slide"
    },
    "tags": []
   },
   "source": [
    "It's highly skewed. To get a more illustrative plot we can take the log:"
   ]
  },
  {
   "cell_type": "code",
   "execution_count": 85,
   "id": "8b92fddc-4f6f-4b60-83df-1278669b210f",
   "metadata": {
    "slideshow": {
     "slide_type": "fragment"
    },
    "tags": []
   },
   "outputs": [
    {
     "data": {
      "image/png": "[encoded data removed]",
      "text/plain": [
       "<Figure size 640x480 with 1 Axes>"
      ]
     },
     "metadata": {},
     "output_type": "display_data"
    }
   ],
   "source": [
    "sales[\n",
    "    sales[\"sales_value\"] > 0\n",
    "][\"sales_value\"].plot.hist(\n",
    "    log=True, bins=30\n",
    ");"
   ]
  },
  {
   "cell_type": "markdown",
   "id": "741bfec0-aa8b-46a4-b97c-c2671c43e5ca",
   "metadata": {
    "slideshow": {
     "slide_type": "slide"
    },
    "tags": []
   },
   "source": [
    "We can also view a line plot over time, using the \"transaction_timestamp\" column. Pandas is quite good at dealing with dates and times, though in this case we need to set the time column to be the index:"
   ]
  },
  {
   "cell_type": "code",
   "execution_count": 98,
   "id": "15215bdc-ca55-4462-8dbf-509923f22d94",
   "metadata": {
    "slideshow": {
     "slide_type": "fragment"
    },
    "tags": []
   },
   "outputs": [
    {
     "data": {
      "image/png": "[encoded data removed]",
      "text/plain": [
       "<Figure size 1000x400 with 1 Axes>"
      ]
     },
     "metadata": {},
     "output_type": "display_data"
    }
   ],
   "source": [
    "sales_indexed = (\n",
    "    sales.set_index(\"transaction_timestamp\")\n",
    "    [\"sales_value\"]\n",
    ")\n",
    "\n",
    "(sales_indexed\n",
    " .plot.line(figsize=(10,4)));"
   ]
  },
  {
   "cell_type": "markdown",
   "id": "beef2190-5485-484e-9466-9e639b7ee0ed",
   "metadata": {
    "slideshow": {
     "slide_type": "slide"
    },
    "tags": []
   },
   "source": [
    "That's not a particularly engaging plot. Fortunately, since we have a datetime index we can use `resample()` to group by the day and take the sum:"
   ]
  },
  {
   "cell_type": "code",
   "execution_count": 83,
   "id": "ebaa2a84-8146-49c9-b536-db7cda39212d",
   "metadata": {
    "slideshow": {
     "slide_type": "fragment"
    },
    "tags": []
   },
   "outputs": [
    {
     "data": {
      "image/png": "[encoded data removed]",
      "text/plain": [
       "<Figure size 1000x400 with 1 Axes>"
      ]
     },
     "metadata": {},
     "output_type": "display_data"
    }
   ],
   "source": [
    "(\n",
    "    sales_indexed\n",
    "    .resample('D')\n",
    "    .sum()\n",
    "    .plot.line(figsize=(10,4))\n",
    ");"
   ]
  },
  {
   "cell_type": "markdown",
   "id": "a84b2ea7-4452-47c3-84ce-4ef7ab29db6e",
   "metadata": {
    "slideshow": {
     "slide_type": "slide"
    },
    "tags": []
   },
   "source": [
    "We can even be reasonably fancy here. Let's say we wanted a plot of sales by day:"
   ]
  },
  {
   "cell_type": "code",
   "execution_count": 99,
   "id": "d15604e2-4767-4132-9535-2038f76539d5",
   "metadata": {
    "slideshow": {
     "slide_type": "fragment"
    },
    "tags": []
   },
   "outputs": [],
   "source": [
    "day_order = [\n",
    "    'Monday', 'Tuesday', 'Wednesday',\n",
    "    'Thursday', 'Friday', 'Saturday',\n",
    "    'Sunday'\n",
    "]\n",
    "\n",
    "total_sales_by_weekday = (\n",
    "    sales_indexed\n",
    "    .resample('D')\n",
    "    .sum()\n",
    "    .rename(lambda idx: idx.day_name())\n",
    "    .groupby('transaction_timestamp')\n",
    "    .quantile([.25, .5, .75])\n",
    "    .unstack()\n",
    "    .reindex(day_order)\n",
    ")"
   ]
  },
  {
   "cell_type": "code",
   "execution_count": 100,
   "id": "57a8530d-eda5-43ae-a148-488710e46f07",
   "metadata": {
    "slideshow": {
     "slide_type": "slide"
    },
    "tags": []
   },
   "outputs": [
    {
     "data": {
      "image/png": "[encoded data removed]",
      "text/plain": [
       "<Figure size 1000x400 with 1 Axes>"
      ]
     },
     "metadata": {},
     "output_type": "display_data"
    }
   ],
   "source": [
    "total_sales_by_weekday.plot.line(\n",
    "    title='Median and IQR of total sales by DOW',\n",
    "    figsize=(10,4)\n",
    ");"
   ]
  },
  {
   "cell_type": "markdown",
   "id": "3f9f2c34-d38c-4b38-8fa2-121ce15d6863",
   "metadata": {
    "slideshow": {
     "slide_type": "slide"
    },
    "tags": []
   },
   "source": [
    "Line by line, we:\n",
    "\n",
    "1. Resample by day\n",
    "2. Compute total sales for each day\n",
    "3. Extract weekday from the index; to do this we use `rename()` which, when passed a function of one argument, will apply that function to the index\n",
    "4. Group by the index, now weekday names\n",
    "5. Compute quantiles for each group\n",
    "6. Since this is multi-indexed Series, turn it into a data frame with `unstack()`; this takes the inner index (the quantile labels) and transposes them to be columns\n",
    "7. Use `reindex()` to force the index into the customary daily ordering\n",
    "\n",
    "For reference, the final data frame we use to plot looks like this:"
   ]
  },
  {
   "cell_type": "code",
   "execution_count": 76,
   "id": "920b61da-e725-411f-a5ad-93dd0e9972b2",
   "metadata": {
    "slideshow": {
     "slide_type": "slide"
    },
    "tags": []
   },
   "outputs": [
    {
     "data": {
      "text/html": [
       "<div>\n",
       "<style scoped>\n",
       "    .dataframe tbody tr th:only-of-type {\n",
       "        vertical-align: middle;\n",
       "    }\n",
       "\n",
       "    .dataframe tbody tr th {\n",
       "        vertical-align: top;\n",
       "    }\n",
       "\n",
       "    .dataframe thead th {\n",
       "        text-align: right;\n",
       "    }\n",
       "</style>\n",
       "<table border=\"1\" class=\"dataframe\">\n",
       "  <thead>\n",
       "    <tr style=\"text-align: right;\">\n",
       "      <th></th>\n",
       "      <th>0.25</th>\n",
       "      <th>0.50</th>\n",
       "      <th>0.75</th>\n",
       "    </tr>\n",
       "    <tr>\n",
       "      <th>transaction_timestamp</th>\n",
       "      <th></th>\n",
       "      <th></th>\n",
       "      <th></th>\n",
       "    </tr>\n",
       "  </thead>\n",
       "  <tbody>\n",
       "    <tr>\n",
       "      <th>Monday</th>\n",
       "      <td>634.9300</td>\n",
       "      <td>686.720</td>\n",
       "      <td>732.2500</td>\n",
       "    </tr>\n",
       "    <tr>\n",
       "      <th>Tuesday</th>\n",
       "      <td>574.1600</td>\n",
       "      <td>650.735</td>\n",
       "      <td>732.3175</td>\n",
       "    </tr>\n",
       "    <tr>\n",
       "      <th>Wednesday</th>\n",
       "      <td>568.6600</td>\n",
       "      <td>622.830</td>\n",
       "      <td>705.5575</td>\n",
       "    </tr>\n",
       "    <tr>\n",
       "      <th>Thursday</th>\n",
       "      <td>562.6550</td>\n",
       "      <td>634.630</td>\n",
       "      <td>709.5600</td>\n",
       "    </tr>\n",
       "    <tr>\n",
       "      <th>Friday</th>\n",
       "      <td>611.8275</td>\n",
       "      <td>677.125</td>\n",
       "      <td>739.8250</td>\n",
       "    </tr>\n",
       "    <tr>\n",
       "      <th>Saturday</th>\n",
       "      <td>769.0600</td>\n",
       "      <td>867.095</td>\n",
       "      <td>954.2750</td>\n",
       "    </tr>\n",
       "    <tr>\n",
       "      <th>Sunday</th>\n",
       "      <td>862.2900</td>\n",
       "      <td>948.430</td>\n",
       "      <td>990.9600</td>\n",
       "    </tr>\n",
       "  </tbody>\n",
       "</table>\n",
       "</div>"
      ],
      "text/plain": [
       "                           0.25     0.50      0.75\n",
       "transaction_timestamp                             \n",
       "Monday                 634.9300  686.720  732.2500\n",
       "Tuesday                574.1600  650.735  732.3175\n",
       "Wednesday              568.6600  622.830  705.5575\n",
       "Thursday               562.6550  634.630  709.5600\n",
       "Friday                 611.8275  677.125  739.8250\n",
       "Saturday               769.0600  867.095  954.2750\n",
       "Sunday                 862.2900  948.430  990.9600"
      ]
     },
     "execution_count": 76,
     "metadata": {},
     "output_type": "execute_result"
    }
   ],
   "source": [
    "(\n",
    "    sales_indexed\n",
    "    .resample('D')\n",
    "    .sum()\n",
    "    .rename(lambda idx: idx.day_name())\n",
    "    .groupby('transaction_timestamp')\n",
    "    .quantile([.25, .5, .75])\n",
    "    .unstack()\n",
    "    .reindex(day_order)\n",
    ")"
   ]
  },
  {
   "cell_type": "markdown",
   "id": "ccc3527f-a859-4c64-9527-c50fba0124c9",
   "metadata": {
    "slideshow": {
     "slide_type": "slide"
    },
    "tags": []
   },
   "source": [
    "### Other Types of Plot"
   ]
  },
  {
   "cell_type": "markdown",
   "id": "ca755d10-ef99-4281-8a56-c32379813c50",
   "metadata": {
    "slideshow": {
     "slide_type": "fragment"
    },
    "tags": []
   },
   "source": [
    "There are a number of different plots we can use here, including:\n",
    "\n",
    "* box and whisker plots with `.plot.box()`\n",
    "* kernel density plots with `.plot.kde()`\n",
    "* bar plots with `.plot.bar()`\n",
    "* horizontal bar plots with `.plot.barh()`\n",
    "* pie charts with `.plot.pie()` (but please don't)"
   ]
  },
  {
   "cell_type": "markdown",
   "id": "a7e79343-f1fa-43d9-b28a-b38edf910f60",
   "metadata": {
    "slideshow": {
     "slide_type": "slide"
    },
    "tags": []
   },
   "source": [
    "## Plotting a Data Frame"
   ]
  },
  {
   "cell_type": "markdown",
   "id": "b03cb07c-79fe-4187-8547-78f1fa0b527f",
   "metadata": {
    "slideshow": {
     "slide_type": "fragment"
    },
    "tags": []
   },
   "source": [
    "With the basics of plotting a `Series`, this can easily be extended to plotting with multiple columns of a data frame. For example, let's say we wanted to plot sales vs quantity sold across all transactions:"
   ]
  },
  {
   "cell_type": "code",
   "execution_count": 89,
   "id": "57a222e9-49b8-4466-8e1f-c38a58ec52a6",
   "metadata": {
    "slideshow": {
     "slide_type": "slide"
    },
    "tags": []
   },
   "outputs": [
    {
     "data": {
      "image/png": "[encoded data removed]",
      "text/plain": [
       "<Figure size 800x400 with 1 Axes>"
      ]
     },
     "metadata": {},
     "output_type": "display_data"
    }
   ],
   "source": [
    "sales.plot.scatter(\n",
    "    x='quantity', \n",
    "    y='sales_value', \n",
    "    title='Sales versus quantity', \n",
    "    figsize=(8,4)\n",
    ");"
   ]
  },
  {
   "cell_type": "markdown",
   "id": "42835b79-49b8-4820-b63f-7c83425a05fe",
   "metadata": {
    "slideshow": {
     "slide_type": "slide"
    },
    "tags": []
   },
   "source": [
    "We can use the same plotting methods with a data frame as we used for a series. For example, say we wanted to view the distribution of sales by department:"
   ]
  },
  {
   "cell_type": "code",
   "execution_count": 103,
   "id": "e04ee345-9c03-4681-bfe0-b7a150e9feb1",
   "metadata": {
    "slideshow": {
     "slide_type": "fragment"
    },
    "tags": []
   },
   "outputs": [],
   "source": [
    "dept_sales = (\n",
    "    sales.groupby(\"department\", as_index=False)\n",
    "    .agg({\"sales_value\": \"sum\"})\n",
    "    .sort_values(\"sales_value\", ascending=False)\n",
    "    .head(5)\n",
    ")"
   ]
  },
  {
   "cell_type": "code",
   "execution_count": 104,
   "id": "16035220-dd6e-47e9-8200-30bf70792fea",
   "metadata": {
    "slideshow": {
     "slide_type": "slide"
    },
    "tags": []
   },
   "outputs": [
    {
     "data": {
      "image/png": "[encoded data removed]",
      "text/plain": [
       "<Figure size 640x480 with 1 Axes>"
      ]
     },
     "metadata": {},
     "output_type": "display_data"
    }
   ],
   "source": [
    "(dept_sales\n",
    " .sort_values('sales_value')\n",
    " .plot.barh(\n",
    "      x='department', \n",
    "      y='sales_value', \n",
    "      color='red'\n",
    "));"
   ]
  },
  {
   "cell_type": "markdown",
   "id": "60bf150b-cb44-4d91-a488-50c316a7cfae",
   "metadata": {
    "slideshow": {
     "slide_type": "slide"
    },
    "tags": []
   },
   "source": [
    "We can even plot multiple lines, in just the same manner as we plotted a series. Say we wanted to plot sales over time for various discount types:"
   ]
  },
  {
   "cell_type": "code",
   "execution_count": 96,
   "id": "2230ccbc-16d4-4112-a02d-6e31b9d7f331",
   "metadata": {
    "slideshow": {
     "slide_type": "fragment"
    },
    "tags": []
   },
   "outputs": [
    {
     "data": {
      "text/html": [
       "<div>\n",
       "<style scoped>\n",
       "    .dataframe tbody tr th:only-of-type {\n",
       "        vertical-align: middle;\n",
       "    }\n",
       "\n",
       "    .dataframe tbody tr th {\n",
       "        vertical-align: top;\n",
       "    }\n",
       "\n",
       "    .dataframe thead th {\n",
       "        text-align: right;\n",
       "    }\n",
       "</style>\n",
       "<table border=\"1\" class=\"dataframe\">\n",
       "  <thead>\n",
       "    <tr style=\"text-align: right;\">\n",
       "      <th></th>\n",
       "      <th>retail_disc</th>\n",
       "      <th>coupon_disc</th>\n",
       "      <th>coupon_match_disc</th>\n",
       "    </tr>\n",
       "    <tr>\n",
       "      <th>transaction_timestamp</th>\n",
       "      <th></th>\n",
       "      <th></th>\n",
       "      <th></th>\n",
       "    </tr>\n",
       "  </thead>\n",
       "  <tbody>\n",
       "    <tr>\n",
       "      <th>2017-01-01</th>\n",
       "      <td>50.70</td>\n",
       "      <td>0.0</td>\n",
       "      <td>0.0</td>\n",
       "    </tr>\n",
       "    <tr>\n",
       "      <th>2017-01-02</th>\n",
       "      <td>82.02</td>\n",
       "      <td>0.4</td>\n",
       "      <td>0.4</td>\n",
       "    </tr>\n",
       "    <tr>\n",
       "      <th>2017-01-03</th>\n",
       "      <td>68.34</td>\n",
       "      <td>1.0</td>\n",
       "      <td>0.0</td>\n",
       "    </tr>\n",
       "    <tr>\n",
       "      <th>2017-01-04</th>\n",
       "      <td>71.44</td>\n",
       "      <td>1.4</td>\n",
       "      <td>0.4</td>\n",
       "    </tr>\n",
       "    <tr>\n",
       "      <th>2017-01-05</th>\n",
       "      <td>56.66</td>\n",
       "      <td>0.0</td>\n",
       "      <td>0.0</td>\n",
       "    </tr>\n",
       "  </tbody>\n",
       "</table>\n",
       "</div>"
      ],
      "text/plain": [
       "                       retail_disc  coupon_disc  coupon_match_disc\n",
       "transaction_timestamp                                             \n",
       "2017-01-01                   50.70          0.0                0.0\n",
       "2017-01-02                   82.02          0.4                0.4\n",
       "2017-01-03                   68.34          1.0                0.0\n",
       "2017-01-04                   71.44          1.4                0.4\n",
       "2017-01-05                   56.66          0.0                0.0"
      ]
     },
     "execution_count": 96,
     "metadata": {},
     "output_type": "execute_result"
    }
   ],
   "source": [
    "total_daily_discounts = (\n",
    "    sales[sales[\"department\"] == \"GROCERY\"]\n",
    "    .set_index('transaction_timestamp')\n",
    "    .loc[:, ['retail_disc', 'coupon_disc', 'coupon_match_disc']]\n",
    "    .resample('D')\n",
    "    .sum()\n",
    ")\n",
    "\n",
    "total_daily_discounts.head()"
   ]
  },
  {
   "cell_type": "markdown",
   "id": "76354906-bf84-4895-806f-9bfc00df1705",
   "metadata": {
    "slideshow": {
     "slide_type": "slide"
    },
    "tags": []
   },
   "source": [
    "If we apply `.plot.line()` to this data frame then by default it will plot each of the numeric variables on the same plot:"
   ]
  },
  {
   "cell_type": "code",
   "execution_count": 97,
   "id": "bd29dd46-3e28-43e2-85da-87489dd63c81",
   "metadata": {
    "slideshow": {
     "slide_type": "fragment"
    },
    "tags": []
   },
   "outputs": [
    {
     "data": {
      "image/png": "[encoded data removed]",
      "text/plain": [
       "<Figure size 1000x400 with 1 Axes>"
      ]
     },
     "metadata": {},
     "output_type": "display_data"
    }
   ],
   "source": [
    "total_daily_discounts.plot.line(\n",
    "    logy=True, figsize=(10, 4)\n",
    ");"
   ]
  },
  {
   "cell_type": "markdown",
   "id": "c05759ef-5c2f-4ea0-a34a-8b0943288ae0",
   "metadata": {
    "slideshow": {
     "slide_type": "slide"
    },
    "tags": []
   },
   "source": [
    "## Questions\n",
    "\n",
    "Are there any questions before moving on?"
   ]
  }
 ],
 "metadata": {
  "kernelspec": {
   "display_name": "Python 3 (ipykernel)",
   "language": "python",
   "name": "python3"
  },
  "language_info": {
   "codemirror_mode": {
    "name": "ipython",
    "version": 3
   },
   "file_extension": ".py",
   "mimetype": "text/x-python",
   "name": "python",
   "nbconvert_exporter": "python",
   "pygments_lexer": "ipython3",
   "version": "3.10.0"
  }
 },
 "nbformat": 4,
 "nbformat_minor": 5
}
