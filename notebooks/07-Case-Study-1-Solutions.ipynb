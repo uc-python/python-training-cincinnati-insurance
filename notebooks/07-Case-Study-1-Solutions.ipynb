{
 "cells": [
  {
   "attachments": {},
   "cell_type": "markdown",
   "metadata": {
    "slideshow": {
     "slide_type": "slide"
    }
   },
   "source": [
    "# Case Study \\#1"
   ]
  },
  {
   "attachments": {},
   "cell_type": "markdown",
   "metadata": {
    "slideshow": {
     "slide_type": "slide"
    }
   },
   "source": [
    "## Question 1\n",
    "\n",
    "Given the equation for calculating Body Mass Index (BMI) is:\n",
    "\n",
    "$$BMI = \\frac{(\\text{weight in pounds}) \\times 703}{(\\text{height in inches})^2}$$\n",
    "\n",
    "Say an individual weighs 150 lbs and is 68 inches tall. What is their BMI?\n",
    "\n",
    "```python\n",
    "weight = ____\n",
    "height = ____\n",
    "bmi = ____\n",
    "```"
   ]
  },
  {
   "cell_type": "code",
   "execution_count": 1,
   "metadata": {
    "slideshow": {
     "slide_type": "slide"
    }
   },
   "outputs": [
    {
     "name": "stdout",
     "output_type": "stream",
     "text": [
      "22.80493079584775\n"
     ]
    }
   ],
   "source": [
    "weight = 150\n",
    "height = 68\n",
    "bmi = (weight * 703) / (height ** 2)\n",
    "\n",
    "print(bmi)"
   ]
  },
  {
   "attachments": {},
   "cell_type": "markdown",
   "metadata": {
    "slideshow": {
     "slide_type": "slide"
    }
   },
   "source": [
    "## Question 2\n",
    "\n",
    "Given the area of a circle is:\n",
    "\n",
    "$$A = \\pi(\\text{diameter}/2)^2$$\n",
    "\n",
    "Say you have a 12\" diameter pizza. Compute the area of the pizza, and assign it to the variable `area`.\n",
    "\n",
    "```python\n",
    "area = ____\n",
    "```\n",
    "\n",
    "**Hint:** run `from math import pi` to use the variable `pi` for $\\pi$."
   ]
  },
  {
   "attachments": {},
   "cell_type": "markdown",
   "metadata": {
    "slideshow": {
     "slide_type": "fragment"
    }
   },
   "source": [
    "Now, say that the cost of the pizza was $8. Compute the cost per square inch of this pizza.\n",
    "\n",
    "```python\n",
    "cost_per_sqin = ____\n",
    "````"
   ]
  },
  {
   "cell_type": "code",
   "execution_count": 2,
   "metadata": {
    "slideshow": {
     "slide_type": "slide"
    }
   },
   "outputs": [
    {
     "name": "stdout",
     "output_type": "stream",
     "text": [
      "113.09733552923255\n"
     ]
    }
   ],
   "source": [
    "from math import pi\n",
    "\n",
    "area = pi * ((12 / 2) ** 2)\n",
    "\n",
    "print(area)"
   ]
  },
  {
   "cell_type": "code",
   "execution_count": 3,
   "metadata": {
    "slideshow": {
     "slide_type": "fragment"
    }
   },
   "outputs": [
    {
     "name": "stdout",
     "output_type": "stream",
     "text": [
      "0.0707355302630646\n"
     ]
    }
   ],
   "source": [
    "cost_per_sqin = 8 / area\n",
    "\n",
    "print(cost_per_sqin)"
   ]
  },
  {
   "attachments": {},
   "cell_type": "markdown",
   "metadata": {
    "slideshow": {
     "slide_type": "slide"
    }
   },
   "source": [
    "## Question 3\n",
    "\n",
    "Given the variable `language`, which contains a string, use `if/elif/else` to write a function that:\n",
    "\n",
    "- returns `\"I love snakes!\"` if `language` is `\"Python\"` (with any kind of capitalization)\n",
    "- returns `\"Are you a pirate?\"` if `language` is `\"R\"` (with any kind of capitalization)\n",
    "- returns `\"What is language?\"` if `language` is any other value"
   ]
  },
  {
   "cell_type": "code",
   "execution_count": 4,
   "metadata": {
    "slideshow": {
     "slide_type": "slide"
    }
   },
   "outputs": [],
   "source": [
    "def which_language(language):\n",
    "    if language.lower() == \"python\":\n",
    "        return \"I love snakes!\"\n",
    "    elif language.lower() == \"r\":\n",
    "        return \"Are you a pirate?\"\n",
    "    else:\n",
    "        return \"What is language?\""
   ]
  },
  {
   "cell_type": "code",
   "execution_count": 5,
   "metadata": {
    "slideshow": {
     "slide_type": "fragment"
    }
   },
   "outputs": [
    {
     "name": "stdout",
     "output_type": "stream",
     "text": [
      "I love snakes!\n",
      "I love snakes!\n",
      "Are you a pirate?\n",
      "What is language?\n"
     ]
    }
   ],
   "source": [
    "print(which_language(\"Python\"))\n",
    "print(which_language(\"python\"))\n",
    "print(which_language(\"R\"))\n",
    "print(which_language(\"rust\"))"
   ]
  },
  {
   "attachments": {},
   "cell_type": "markdown",
   "metadata": {
    "slideshow": {
     "slide_type": "slide"
    }
   },
   "source": [
    "## Question 4\n",
    "\n",
    "Say we have the following heights (in inches) and weights (in kg) for 10 children:\n",
    "\n",
    "```python\n",
    "heights = [62, 58, 61, 61, 59, 64, 63, 61, 60, 62]\n",
    "weights = [69, 62, 57, 59, 59, 64, 56, 66, 67, 66]\n",
    "```\n",
    "\n",
    "Using the BMI formula from earlier, and the conversion of `1 kg = 2.205 lbs`, compute the BMI for each child. What is the average BMI?\n",
    "\n",
    "```python\n",
    "average_bmi = ____\n",
    "```"
   ]
  },
  {
   "cell_type": "code",
   "execution_count": 13,
   "metadata": {
    "slideshow": {
     "slide_type": "slide"
    }
   },
   "outputs": [],
   "source": [
    "heights = [62, 58, 61, 61, 59, 64, 63, 61, 60, 62]\n",
    "weights = [69, 62, 57, 59, 59, 64, 56, 66, 67, 66]\n",
    "\n",
    "weights_lbs = [w * 2.205 for w in weights]\n",
    "\n",
    "def bmi(height, weight):\n",
    "    return (weight * 703) / (height ** 2)"
   ]
  },
  {
   "cell_type": "code",
   "execution_count": 14,
   "metadata": {
    "slideshow": {
     "slide_type": "fragment"
    }
   },
   "outputs": [],
   "source": [
    "all_bmis = []\n",
    "for i, h in enumerate(heights):\n",
    "    this_bmi = bmi(h, weights_lbs[i])\n",
    "    all_bmis.append(this_bmi)"
   ]
  },
  {
   "cell_type": "code",
   "execution_count": 15,
   "metadata": {
    "slideshow": {
     "slide_type": "fragment"
    }
   },
   "outputs": [
    {
     "name": "stdout",
     "output_type": "stream",
     "text": [
      "26.004155847803467\n"
     ]
    }
   ],
   "source": [
    "average_bmi = sum(all_bmis) / len(all_bmis)\n",
    "\n",
    "print(average_bmi)"
   ]
  },
  {
   "attachments": {},
   "cell_type": "markdown",
   "metadata": {
    "slideshow": {
     "slide_type": "slide"
    }
   },
   "source": [
    "## Question 5\n",
    "\n",
    "Given this nested dictionary, extract the element containing `\"BANA\"`:\n",
    "\n",
    "```python\n",
    "d = {\n",
    "    \"a_list\": [1, 2, 3],\n",
    "    \"a_dict\": {\n",
    "        \"first\": [\"this\", \"is\", \"inception\"],\n",
    "        \"second\": [1, 2, 3, \"BANA\"]\n",
    "    }\n",
    "}\n",
    "```"
   ]
  },
  {
   "cell_type": "code",
   "execution_count": 16,
   "metadata": {
    "slideshow": {
     "slide_type": "slide"
    }
   },
   "outputs": [
    {
     "data": {
      "text/plain": [
       "'BANA'"
      ]
     },
     "execution_count": 16,
     "metadata": {},
     "output_type": "execute_result"
    }
   ],
   "source": [
    "d = {\n",
    "    \"a_list\": [1, 2, 3],\n",
    "    \"a_dict\": {\n",
    "        \"first\": [\"this\", \"is\", \"inception\"],\n",
    "        \"second\": [1, 2, 3, \"BANA\"]\n",
    "    }\n",
    "}\n",
    "\n",
    "d[\"a_dict\"][\"second\"][3]"
   ]
  },
  {
   "cell_type": "code",
   "execution_count": 17,
   "metadata": {
    "slideshow": {
     "slide_type": "fragment"
    }
   },
   "outputs": [
    {
     "data": {
      "text/plain": [
       "{'first': ['this', 'is', 'inception'], 'second': [1, 2, 3, 'BANA']}"
      ]
     },
     "execution_count": 17,
     "metadata": {},
     "output_type": "execute_result"
    }
   ],
   "source": [
    "# access the value for \"a_dict\", which is another dictionary\n",
    "d[\"a_dict\"]"
   ]
  },
  {
   "cell_type": "code",
   "execution_count": 18,
   "metadata": {
    "slideshow": {
     "slide_type": "fragment"
    }
   },
   "outputs": [
    {
     "data": {
      "text/plain": [
       "[1, 2, 3, 'BANA']"
      ]
     },
     "execution_count": 18,
     "metadata": {},
     "output_type": "execute_result"
    }
   ],
   "source": [
    "# access the value for \"second\", which is a list\n",
    "d[\"a_dict\"][\"second\"]"
   ]
  },
  {
   "cell_type": "code",
   "execution_count": 19,
   "metadata": {
    "slideshow": {
     "slide_type": "fragment"
    }
   },
   "outputs": [
    {
     "data": {
      "text/plain": [
       "'BANA'"
      ]
     },
     "execution_count": 19,
     "metadata": {},
     "output_type": "execute_result"
    }
   ],
   "source": [
    "# access the 4th element of the list\n",
    "d[\"a_dict\"][\"second\"][3]"
   ]
  },
  {
   "attachments": {},
   "cell_type": "markdown",
   "metadata": {
    "slideshow": {
     "slide_type": "slide"
    }
   },
   "source": [
    "## Question 6\n",
    "\n",
    "Create a function `divisible()` that accepts two integers (`a` and `b`), and returns `True` if `a` is divisible by `b` without a remainder. For example, `divisible(10, 3)` should return `False`, while `divisible(6, 3)` should return `True`."
   ]
  },
  {
   "attachments": {},
   "cell_type": "markdown",
   "metadata": {
    "slideshow": {
     "slide_type": "fragment"
    }
   },
   "source": [
    "Once you have created this function, run the following code. _Make sure to use the same seed values._ What is your result?"
   ]
  },
  {
   "cell_type": "code",
   "execution_count": null,
   "metadata": {
    "slideshow": {
     "slide_type": "fragment"
    },
    "tags": [
     "ci-skip"
    ]
   },
   "outputs": [],
   "source": [
    "import random\n",
    "\n",
    "random.seed(123)\n",
    "a = random.randint(10, 100)\n",
    "b = random.randint(1, 10)\n",
    "\n",
    "divisible(a, b)"
   ]
  },
  {
   "cell_type": "code",
   "execution_count": 20,
   "metadata": {
    "slideshow": {
     "slide_type": "slide"
    }
   },
   "outputs": [],
   "source": [
    "def divisible(a, b):\n",
    "    if a % b == 0:\n",
    "        return True\n",
    "    else:\n",
    "        return False"
   ]
  },
  {
   "cell_type": "code",
   "execution_count": 21,
   "metadata": {
    "slideshow": {
     "slide_type": "fragment"
    }
   },
   "outputs": [
    {
     "data": {
      "text/plain": [
       "False"
      ]
     },
     "execution_count": 21,
     "metadata": {},
     "output_type": "execute_result"
    }
   ],
   "source": [
    "import random\n",
    "\n",
    "random.seed(123)\n",
    "a = random.randint(10, 100)\n",
    "b = random.randint(1, 10)\n",
    "\n",
    "divisible(a, b)"
   ]
  },
  {
   "attachments": {},
   "cell_type": "markdown",
   "metadata": {
    "slideshow": {
     "slide_type": "slide"
    }
   },
   "source": [
    "## Question 7\n",
    "\n",
    "Create a function `lucky_sum` that takes a list of integers, and returns their sum. However, if one of the values is 13, then it does not count towards the sum, nor do any values to its right.\n",
    "\n",
    "For example, your function should behave as follows:\n",
    "\n",
    "```python\n",
    "lucky_sum([1, 2, 3, 4])\n",
    "10\n",
    "\n",
    "lucky_sum([1, 13, 3, 4])\n",
    "1\n",
    "\n",
    "lucky_sum([1, 3, 13, 4])\n",
    "4\n",
    "\n",
    "lucky_sum([13])\n",
    "0\n",
    "```"
   ]
  },
  {
   "attachments": {},
   "cell_type": "markdown",
   "metadata": {
    "slideshow": {
     "slide_type": "fragment"
    }
   },
   "source": [
    "Once you've created this function, run the following code. _Be sure to run the code exactly as you see it._ What is your result?"
   ]
  },
  {
   "cell_type": "code",
   "execution_count": null,
   "metadata": {
    "slideshow": {
     "slide_type": "fragment"
    },
    "tags": [
     "ci-skip"
    ]
   },
   "outputs": [],
   "source": [
    "import random\n",
    "\n",
    "random.seed(18)\n",
    "my_values = random.choices(range(1, 14), k=26)\n",
    "lucky_sum(my_values)"
   ]
  },
  {
   "cell_type": "code",
   "execution_count": 22,
   "metadata": {
    "slideshow": {
     "slide_type": "slide"
    }
   },
   "outputs": [],
   "source": [
    "def lucky_sum(numbers):\n",
    "    running_sum = 0\n",
    "    for n in numbers:\n",
    "        if n == 13:\n",
    "            break\n",
    "        running_sum = running_sum + n\n",
    "    return running_sum"
   ]
  },
  {
   "cell_type": "code",
   "execution_count": 23,
   "metadata": {
    "slideshow": {
     "slide_type": "fragment"
    }
   },
   "outputs": [
    {
     "data": {
      "text/plain": [
       "101"
      ]
     },
     "execution_count": 23,
     "metadata": {},
     "output_type": "execute_result"
    }
   ],
   "source": [
    "import random\n",
    "\n",
    "random.seed(18)\n",
    "my_values = random.choices(range(1, 14), k=26)\n",
    "lucky_sum(my_values)"
   ]
  },
  {
   "attachments": {},
   "cell_type": "markdown",
   "metadata": {
    "slideshow": {
     "slide_type": "slide"
    }
   },
   "source": [
    "## Question 8\n",
    "\n",
    "Run the following code. Read and embrace this mantra throughout this workshop, and your Python code-writing lives!"
   ]
  },
  {
   "cell_type": "code",
   "execution_count": null,
   "metadata": {
    "slideshow": {
     "slide_type": "fragment"
    }
   },
   "outputs": [],
   "source": [
    "import this"
   ]
  },
  {
   "cell_type": "code",
   "execution_count": 24,
   "metadata": {
    "slideshow": {
     "slide_type": "slide"
    }
   },
   "outputs": [
    {
     "name": "stdout",
     "output_type": "stream",
     "text": [
      "The Zen of Python, by Tim Peters\n",
      "\n",
      "Beautiful is better than ugly.\n",
      "Explicit is better than implicit.\n",
      "Simple is better than complex.\n",
      "Complex is better than complicated.\n",
      "Flat is better than nested.\n",
      "Sparse is better than dense.\n",
      "Readability counts.\n",
      "Special cases aren't special enough to break the rules.\n",
      "Although practicality beats purity.\n",
      "Errors should never pass silently.\n",
      "Unless explicitly silenced.\n",
      "In the face of ambiguity, refuse the temptation to guess.\n",
      "There should be one-- and preferably only one --obvious way to do it.\n",
      "Although that way may not be obvious at first unless you're Dutch.\n",
      "Now is better than never.\n",
      "Although never is often better than *right* now.\n",
      "If the implementation is hard to explain, it's a bad idea.\n",
      "If the implementation is easy to explain, it may be a good idea.\n",
      "Namespaces are one honking great idea -- let's do more of those!\n"
     ]
    }
   ],
   "source": [
    "import this"
   ]
  }
 ],
 "metadata": {
  "kernelspec": {
   "display_name": "cincinnati-insurance-training",
   "language": "python",
   "name": "python3"
  },
  "language_info": {
   "codemirror_mode": {
    "name": "ipython",
    "version": 3
   },
   "file_extension": ".py",
   "mimetype": "text/x-python",
   "name": "python",
   "nbconvert_exporter": "python",
   "pygments_lexer": "ipython3",
   "version": "3.10.9"
  },
  "orig_nbformat": 4,
  "vscode": {
   "interpreter": {
    "hash": "79aa2c5d11f12b7c57627b6a735527056c602300bf7f8df9eb7644ad79595ce0"
   }
  }
 },
 "nbformat": 4,
 "nbformat_minor": 2
}
