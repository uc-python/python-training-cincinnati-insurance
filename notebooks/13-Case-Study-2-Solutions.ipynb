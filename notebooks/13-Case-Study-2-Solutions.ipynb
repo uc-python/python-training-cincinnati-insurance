{
 "cells": [
  {
   "cell_type": "markdown",
   "id": "338d1142-6b5b-4ad2-bb91-437a857e6315",
   "metadata": {
    "slideshow": {
     "slide_type": "slide"
    },
    "tags": []
   },
   "source": [
    "# Case Study 2"
   ]
  },
  {
   "cell_type": "markdown",
   "id": "a33defda-44e4-4a99-b591-ee7a33e419cd",
   "metadata": {
    "slideshow": {
     "slide_type": "slide"
    },
    "tags": []
   },
   "source": [
    "For all Case Study 2 questions we will be using the heart.csv data provided with this case study. Along with the heart.csv data, I have provided a heart_data_dictionary.csv file that provides a description of each column. As you answer the lab questions, it may be beneficial to reference this data dictionary."
   ]
  },
  {
   "cell_type": "code",
   "execution_count": 1,
   "id": "a4af36ca",
   "metadata": {
    "slideshow": {
     "slide_type": "slide"
    }
   },
   "outputs": [],
   "source": [
    "import pandas as pd\n",
    "\n",
    "heart = pd.read_csv(\"../data/heart.csv\")"
   ]
  },
  {
   "cell_type": "code",
   "execution_count": 50,
   "id": "fc671d6b",
   "metadata": {
    "slideshow": {
     "slide_type": "fragment"
    }
   },
   "outputs": [
    {
     "data": {
      "text/html": [
       "<div>\n",
       "<style scoped>\n",
       "    .dataframe tbody tr th:only-of-type {\n",
       "        vertical-align: middle;\n",
       "    }\n",
       "\n",
       "    .dataframe tbody tr th {\n",
       "        vertical-align: top;\n",
       "    }\n",
       "\n",
       "    .dataframe thead th {\n",
       "        text-align: right;\n",
       "    }\n",
       "</style>\n",
       "<table border=\"1\" class=\"dataframe\">\n",
       "  <thead>\n",
       "    <tr style=\"text-align: right;\">\n",
       "      <th></th>\n",
       "      <th>age</th>\n",
       "      <th>sex</th>\n",
       "      <th>chest_pain</th>\n",
       "      <th>rest_bp</th>\n",
       "      <th>chol</th>\n",
       "      <th>fbs</th>\n",
       "      <th>rest_ecg</th>\n",
       "      <th>max_hr</th>\n",
       "      <th>exang</th>\n",
       "      <th>old_peak</th>\n",
       "      <th>slope</th>\n",
       "      <th>ca</th>\n",
       "      <th>thal</th>\n",
       "      <th>disease</th>\n",
       "    </tr>\n",
       "  </thead>\n",
       "  <tbody>\n",
       "    <tr>\n",
       "      <th>0</th>\n",
       "      <td>63</td>\n",
       "      <td>Male</td>\n",
       "      <td>typical</td>\n",
       "      <td>145</td>\n",
       "      <td>233</td>\n",
       "      <td>1</td>\n",
       "      <td>left ventricular hypertrophy</td>\n",
       "      <td>150</td>\n",
       "      <td>0</td>\n",
       "      <td>2.3</td>\n",
       "      <td>3</td>\n",
       "      <td>0.0</td>\n",
       "      <td>fixed</td>\n",
       "      <td>0</td>\n",
       "    </tr>\n",
       "    <tr>\n",
       "      <th>1</th>\n",
       "      <td>67</td>\n",
       "      <td>Male</td>\n",
       "      <td>asymptomatic</td>\n",
       "      <td>160</td>\n",
       "      <td>286</td>\n",
       "      <td>0</td>\n",
       "      <td>left ventricular hypertrophy</td>\n",
       "      <td>108</td>\n",
       "      <td>1</td>\n",
       "      <td>1.5</td>\n",
       "      <td>2</td>\n",
       "      <td>3.0</td>\n",
       "      <td>normal</td>\n",
       "      <td>1</td>\n",
       "    </tr>\n",
       "    <tr>\n",
       "      <th>2</th>\n",
       "      <td>67</td>\n",
       "      <td>Male</td>\n",
       "      <td>asymptomatic</td>\n",
       "      <td>120</td>\n",
       "      <td>229</td>\n",
       "      <td>0</td>\n",
       "      <td>left ventricular hypertrophy</td>\n",
       "      <td>129</td>\n",
       "      <td>1</td>\n",
       "      <td>2.6</td>\n",
       "      <td>2</td>\n",
       "      <td>2.0</td>\n",
       "      <td>reversable</td>\n",
       "      <td>1</td>\n",
       "    </tr>\n",
       "    <tr>\n",
       "      <th>3</th>\n",
       "      <td>37</td>\n",
       "      <td>Male</td>\n",
       "      <td>nonanginal</td>\n",
       "      <td>130</td>\n",
       "      <td>250</td>\n",
       "      <td>0</td>\n",
       "      <td>normal</td>\n",
       "      <td>187</td>\n",
       "      <td>0</td>\n",
       "      <td>3.5</td>\n",
       "      <td>3</td>\n",
       "      <td>0.0</td>\n",
       "      <td>normal</td>\n",
       "      <td>0</td>\n",
       "    </tr>\n",
       "    <tr>\n",
       "      <th>4</th>\n",
       "      <td>41</td>\n",
       "      <td>Female</td>\n",
       "      <td>nontypical</td>\n",
       "      <td>130</td>\n",
       "      <td>204</td>\n",
       "      <td>0</td>\n",
       "      <td>left ventricular hypertrophy</td>\n",
       "      <td>172</td>\n",
       "      <td>0</td>\n",
       "      <td>1.4</td>\n",
       "      <td>1</td>\n",
       "      <td>0.0</td>\n",
       "      <td>normal</td>\n",
       "      <td>0</td>\n",
       "    </tr>\n",
       "    <tr>\n",
       "      <th>...</th>\n",
       "      <td>...</td>\n",
       "      <td>...</td>\n",
       "      <td>...</td>\n",
       "      <td>...</td>\n",
       "      <td>...</td>\n",
       "      <td>...</td>\n",
       "      <td>...</td>\n",
       "      <td>...</td>\n",
       "      <td>...</td>\n",
       "      <td>...</td>\n",
       "      <td>...</td>\n",
       "      <td>...</td>\n",
       "      <td>...</td>\n",
       "      <td>...</td>\n",
       "    </tr>\n",
       "    <tr>\n",
       "      <th>298</th>\n",
       "      <td>45</td>\n",
       "      <td>Male</td>\n",
       "      <td>typical</td>\n",
       "      <td>110</td>\n",
       "      <td>264</td>\n",
       "      <td>0</td>\n",
       "      <td>normal</td>\n",
       "      <td>132</td>\n",
       "      <td>0</td>\n",
       "      <td>1.2</td>\n",
       "      <td>2</td>\n",
       "      <td>0.0</td>\n",
       "      <td>reversable</td>\n",
       "      <td>1</td>\n",
       "    </tr>\n",
       "    <tr>\n",
       "      <th>299</th>\n",
       "      <td>68</td>\n",
       "      <td>Male</td>\n",
       "      <td>asymptomatic</td>\n",
       "      <td>144</td>\n",
       "      <td>193</td>\n",
       "      <td>1</td>\n",
       "      <td>normal</td>\n",
       "      <td>141</td>\n",
       "      <td>0</td>\n",
       "      <td>3.4</td>\n",
       "      <td>2</td>\n",
       "      <td>2.0</td>\n",
       "      <td>reversable</td>\n",
       "      <td>1</td>\n",
       "    </tr>\n",
       "    <tr>\n",
       "      <th>300</th>\n",
       "      <td>57</td>\n",
       "      <td>Male</td>\n",
       "      <td>asymptomatic</td>\n",
       "      <td>130</td>\n",
       "      <td>131</td>\n",
       "      <td>0</td>\n",
       "      <td>normal</td>\n",
       "      <td>115</td>\n",
       "      <td>1</td>\n",
       "      <td>1.2</td>\n",
       "      <td>2</td>\n",
       "      <td>1.0</td>\n",
       "      <td>reversable</td>\n",
       "      <td>1</td>\n",
       "    </tr>\n",
       "    <tr>\n",
       "      <th>301</th>\n",
       "      <td>57</td>\n",
       "      <td>Female</td>\n",
       "      <td>nontypical</td>\n",
       "      <td>130</td>\n",
       "      <td>236</td>\n",
       "      <td>0</td>\n",
       "      <td>left ventricular hypertrophy</td>\n",
       "      <td>174</td>\n",
       "      <td>0</td>\n",
       "      <td>0.0</td>\n",
       "      <td>2</td>\n",
       "      <td>1.0</td>\n",
       "      <td>normal</td>\n",
       "      <td>1</td>\n",
       "    </tr>\n",
       "    <tr>\n",
       "      <th>302</th>\n",
       "      <td>38</td>\n",
       "      <td>Male</td>\n",
       "      <td>nonanginal</td>\n",
       "      <td>138</td>\n",
       "      <td>175</td>\n",
       "      <td>0</td>\n",
       "      <td>normal</td>\n",
       "      <td>173</td>\n",
       "      <td>0</td>\n",
       "      <td>0.0</td>\n",
       "      <td>1</td>\n",
       "      <td>NaN</td>\n",
       "      <td>normal</td>\n",
       "      <td>0</td>\n",
       "    </tr>\n",
       "  </tbody>\n",
       "</table>\n",
       "<p>303 rows × 14 columns</p>\n",
       "</div>"
      ],
      "text/plain": [
       "     age     sex    chest_pain  rest_bp  chol  fbs  \\\n",
       "0     63    Male       typical      145   233    1   \n",
       "1     67    Male  asymptomatic      160   286    0   \n",
       "2     67    Male  asymptomatic      120   229    0   \n",
       "3     37    Male    nonanginal      130   250    0   \n",
       "4     41  Female    nontypical      130   204    0   \n",
       "..   ...     ...           ...      ...   ...  ...   \n",
       "298   45    Male       typical      110   264    0   \n",
       "299   68    Male  asymptomatic      144   193    1   \n",
       "300   57    Male  asymptomatic      130   131    0   \n",
       "301   57  Female    nontypical      130   236    0   \n",
       "302   38    Male    nonanginal      138   175    0   \n",
       "\n",
       "                          rest_ecg  max_hr  exang  old_peak  slope   ca  \\\n",
       "0    left ventricular hypertrophy      150      0       2.3      3  0.0   \n",
       "1    left ventricular hypertrophy      108      1       1.5      2  3.0   \n",
       "2    left ventricular hypertrophy      129      1       2.6      2  2.0   \n",
       "3                           normal     187      0       3.5      3  0.0   \n",
       "4    left ventricular hypertrophy      172      0       1.4      1  0.0   \n",
       "..                             ...     ...    ...       ...    ...  ...   \n",
       "298                         normal     132      0       1.2      2  0.0   \n",
       "299                         normal     141      0       3.4      2  2.0   \n",
       "300                         normal     115      1       1.2      2  1.0   \n",
       "301  left ventricular hypertrophy      174      0       0.0      2  1.0   \n",
       "302                         normal     173      0       0.0      1  NaN   \n",
       "\n",
       "           thal  disease  \n",
       "0         fixed        0  \n",
       "1        normal        1  \n",
       "2    reversable        1  \n",
       "3        normal        0  \n",
       "4        normal        0  \n",
       "..          ...      ...  \n",
       "298  reversable        1  \n",
       "299  reversable        1  \n",
       "300  reversable        1  \n",
       "301      normal        1  \n",
       "302      normal        0  \n",
       "\n",
       "[303 rows x 14 columns]"
      ]
     },
     "execution_count": 50,
     "metadata": {},
     "output_type": "execute_result"
    }
   ],
   "source": [
    "heart"
   ]
  },
  {
   "attachments": {},
   "cell_type": "markdown",
   "id": "3c209248-b5b0-4365-9f70-d6e3833a2703",
   "metadata": {
    "slideshow": {
     "slide_type": "slide"
    },
    "tags": []
   },
   "source": [
    "## Subsetting data\n",
    "\n",
    "1. Filter the heart data for all observations where the person is 50 years or older. How many observations are there?\n",
    "2. Using the original heart data, filter for those observations that are male and 50 years or older. How many observations are there?\n",
    "3. Using the original heart data, filter for those observations that are female, 50 years or younger, and have the disease (disease = 1). Select `chest_pain`, `chol`, and `max_hr` columns. How many rows and columns are in the resulting DataFrame?"
   ]
  },
  {
   "cell_type": "markdown",
   "id": "90999c0d",
   "metadata": {
    "slideshow": {
     "slide_type": "slide"
    }
   },
   "source": [
    "### Question 1\n",
    "\n",
    "Filter the heart data for all observations where the person is 50 years or older. How many observations are there?"
   ]
  },
  {
   "cell_type": "code",
   "execution_count": 96,
   "id": "83529cd6",
   "metadata": {
    "slideshow": {
     "slide_type": "fragment"
    }
   },
   "outputs": [
    {
     "data": {
      "text/plain": [
       "(216, 16)"
      ]
     },
     "execution_count": 96,
     "metadata": {},
     "output_type": "execute_result"
    }
   ],
   "source": [
    "heart[heart[\"age\"] >= 50].shape"
   ]
  },
  {
   "attachments": {},
   "cell_type": "markdown",
   "id": "760b8ad4",
   "metadata": {
    "slideshow": {
     "slide_type": "slide"
    }
   },
   "source": [
    "### Question 2\n",
    "\n",
    "Using the original heart data, filter for those observations that are male and 50 years or older. How many observations are there?"
   ]
  },
  {
   "cell_type": "code",
   "execution_count": 97,
   "id": "3438e080",
   "metadata": {
    "slideshow": {
     "slide_type": "fragment"
    }
   },
   "outputs": [
    {
     "data": {
      "text/plain": [
       "(143, 16)"
      ]
     },
     "execution_count": 97,
     "metadata": {},
     "output_type": "execute_result"
    }
   ],
   "source": [
    "heart[\n",
    "    (heart[\"age\"] >= 50) & (heart[\"sex\"] == \"Male\")\n",
    "].shape"
   ]
  },
  {
   "attachments": {},
   "cell_type": "markdown",
   "id": "d628634f",
   "metadata": {
    "slideshow": {
     "slide_type": "slide"
    }
   },
   "source": [
    "### Question 3\n",
    "\n",
    "Using the original heart data, filter for those observations that are female, 50 years or younger, and have the disease (disease = 1). Select `chest_pain`, `chol`, and `max_hr` columns. How many rows and columns are in the resulting DataFrame?"
   ]
  },
  {
   "cell_type": "code",
   "execution_count": 53,
   "id": "1e8c5160",
   "metadata": {
    "slideshow": {
     "slide_type": "fragment"
    }
   },
   "outputs": [
    {
     "data": {
      "text/plain": [
       "(1, 3)"
      ]
     },
     "execution_count": 53,
     "metadata": {},
     "output_type": "execute_result"
    }
   ],
   "source": [
    "heart.loc[\n",
    "    (heart[\"sex\"] == \"Female\") &\n",
    "    (heart[\"age\"] <= 50) &\n",
    "    (heart[\"disease\"] == 1),\n",
    "    [\"chest_pain\", \"chol\", \"max_hr\"]\n",
    "].shape"
   ]
  },
  {
   "attachments": {},
   "cell_type": "markdown",
   "id": "482e0f00-b9ae-4559-8756-aee3f5d79ac7",
   "metadata": {
    "slideshow": {
     "slide_type": "slide"
    },
    "tags": []
   },
   "source": [
    "## Manipulating data\n",
    "\n",
    "1. Are there any missing values in this data? If so, which columns? For these columns, fill the missing values with the value that appears most often (aka \"mode\"). This is a multi-step process and it would be worth reviewing the [`.fillna()` docs](https://pandas.pydata.org/docs/reference/api/pandas.DataFrame.fillna.html).\n",
    "2. Create a new column called `risk` that is equal to $ \\frac{age}{{res\\_bp} + chol + {max\\_hr}} $. What is the mean of this `risk` column?\n",
    "3. Replace the values in the `rest_ecg` column so that:\n",
    "   - normal = normal\n",
    "   - left ventricular hypertrophy = lvh\n",
    "   - ST-T wave abnormality = stt_wav_abn\n",
    "   \n",
    "   **Hint**: one of the original values may have an extra space at the end of the name!\n",
    "    \n",
    "   How many observations fall into each of the new `rest_ecg` categories?"
   ]
  },
  {
   "attachments": {},
   "cell_type": "markdown",
   "id": "11a2cd33",
   "metadata": {
    "slideshow": {
     "slide_type": "slide"
    }
   },
   "source": [
    "### Question 1\n",
    "\n",
    "Are there any missing values in this data? If so, which columns? For these columns, fill the missing values with the value that appears most often (aka \"mode\"). This is a multi-step process and it would be worth reviewing the [`.fillna()` docs](https://pandas.pydata.org/docs/reference/api/pandas.DataFrame.fillna.html)."
   ]
  },
  {
   "cell_type": "code",
   "execution_count": 54,
   "id": "f2740f18",
   "metadata": {
    "slideshow": {
     "slide_type": "fragment"
    }
   },
   "outputs": [
    {
     "name": "stdout",
     "output_type": "stream",
     "text": [
      "ca         0.0\n",
      "thal    normal\n",
      "Name: 0, dtype: object\n"
     ]
    }
   ],
   "source": [
    "cols_miss = list(\n",
    "    heart.isnull().sum()\n",
    "    [(heart.isnull().sum() > 0)].index\n",
    ")\n",
    "\n",
    "print(heart[cols_miss].mode().iloc[0])"
   ]
  },
  {
   "cell_type": "code",
   "execution_count": 55,
   "id": "eed9bd14",
   "metadata": {
    "slideshow": {
     "slide_type": "fragment"
    }
   },
   "outputs": [],
   "source": [
    "heart.fillna({\"ca\": 0.0, \"thal\": \"normal\"})\n",
    "heart = heart.fillna(heart[cols_miss].mode().iloc[0])"
   ]
  },
  {
   "attachments": {},
   "cell_type": "markdown",
   "id": "d2577169",
   "metadata": {
    "slideshow": {
     "slide_type": "slide"
    }
   },
   "source": [
    "### Question 2\n",
    "\n",
    "Create a new column called `risk` that is equal to $ \\frac{age}{{res\\_bp} + chol + {max\\_hr}} $. What is the mean of this `risk` column?"
   ]
  },
  {
   "cell_type": "code",
   "execution_count": 59,
   "id": "b8fef70e",
   "metadata": {
    "slideshow": {
     "slide_type": "fragment"
    }
   },
   "outputs": [
    {
     "data": {
      "text/plain": [
       "0.10426734916395465"
      ]
     },
     "execution_count": 59,
     "metadata": {},
     "output_type": "execute_result"
    }
   ],
   "source": [
    "heart = heart.assign(\n",
    "    risk=heart[\"age\"] / (\n",
    "        heart[\"rest_bp\"] + heart[\"chol\"] + heart[\"max_hr\"]\n",
    "    )\n",
    ")\n",
    "heart[\"risk\"].mean()"
   ]
  },
  {
   "attachments": {},
   "cell_type": "markdown",
   "id": "d91dec74",
   "metadata": {
    "slideshow": {
     "slide_type": "slide"
    }
   },
   "source": [
    "### Question 3\n",
    "\n",
    "Replace the values in the `rest_ecg` column so that:\n",
    "   - normal = normal\n",
    "   - left ventricular hypertrophy = lvh\n",
    "   - ST-T wave abnormality = stt_wav_abn\n",
    "   \n",
    "   **Hint**: one of the original values may have an extra space at the end of the name!\n",
    "    \n",
    "   How many observations fall into each of the new `rest_ecg` categories?"
   ]
  },
  {
   "cell_type": "code",
   "execution_count": 99,
   "id": "7a1f41f8",
   "metadata": {
    "slideshow": {
     "slide_type": "fragment"
    }
   },
   "outputs": [
    {
     "data": {
      "text/plain": [
       "303"
      ]
     },
     "execution_count": 99,
     "metadata": {},
     "output_type": "execute_result"
    }
   ],
   "source": [
    "heart.loc[heart[\"rest_ecg\"] == \"normal\", \"rest_ecg\"] = \"normal\"\n",
    "heart.loc[\n",
    "    heart[\"rest_ecg\"] == \"left ventricular hypertrophy \",\n",
    "    \"rest_ecg\"\n",
    "] = \"lvh\"\n",
    "heart.loc[\n",
    "    heart[\"rest_ecg\"] == \"ST-T wave abnormality\",\n",
    "    \"rest_ecg\"\n",
    "] = \"stt_wav_abn\"\n",
    "\n",
    "heart[\"rest_ecg\"].isin([\"normal\", \"lvh\", \"stt_wav_abn\"]).sum()"
   ]
  },
  {
   "cell_type": "markdown",
   "id": "2bf89c77-dcbe-478d-9876-1de886a3534e",
   "metadata": {
    "slideshow": {
     "slide_type": "slide"
    },
    "tags": []
   },
   "source": [
    "## Summarizing data\n",
    "\n",
    "1. What is the mean resting blood pressure for males and females?\n",
    "2. What is the mean and median cholesterol levels for males and females?\n",
    "3. Which age group has the largest median cholesterol levels for males?\n",
    "4. Compute mean `risk` value (the `risk` column was created in problem 2 of the \"Manipulating data\" section) for each age and sex. Which gender and age group has the highest average risk value?"
   ]
  },
  {
   "attachments": {},
   "cell_type": "markdown",
   "id": "5489a7fa",
   "metadata": {
    "slideshow": {
     "slide_type": "slide"
    }
   },
   "source": [
    "To use age groups, we'll need to make a new column from the existing `age` column."
   ]
  },
  {
   "cell_type": "code",
   "execution_count": 2,
   "id": "790626f8",
   "metadata": {
    "slideshow": {
     "slide_type": "fragment"
    }
   },
   "outputs": [],
   "source": [
    "def categorize_age(age):\n",
    "    if age <= 40:\n",
    "        return 40\n",
    "    elif age <= 50:\n",
    "        return 50\n",
    "    elif age <= 60:\n",
    "        return 60\n",
    "    elif age <= 70:\n",
    "        return 70\n",
    "    else:\n",
    "        return 80\n",
    "        \n",
    "heart = heart.assign(\n",
    "    age_group=heart[\"age\"].apply(categorize_age)\n",
    ")"
   ]
  },
  {
   "attachments": {},
   "cell_type": "markdown",
   "id": "48fd0f3a",
   "metadata": {
    "slideshow": {
     "slide_type": "slide"
    }
   },
   "source": [
    "### Question 1\n",
    "\n",
    "What is the mean resting blood pressure for males and females?"
   ]
  },
  {
   "cell_type": "code",
   "execution_count": 72,
   "id": "ab4dac24",
   "metadata": {
    "slideshow": {
     "slide_type": "fragment"
    }
   },
   "outputs": [
    {
     "data": {
      "text/html": [
       "<div>\n",
       "<style scoped>\n",
       "    .dataframe tbody tr th:only-of-type {\n",
       "        vertical-align: middle;\n",
       "    }\n",
       "\n",
       "    .dataframe tbody tr th {\n",
       "        vertical-align: top;\n",
       "    }\n",
       "\n",
       "    .dataframe thead th {\n",
       "        text-align: right;\n",
       "    }\n",
       "</style>\n",
       "<table border=\"1\" class=\"dataframe\">\n",
       "  <thead>\n",
       "    <tr style=\"text-align: right;\">\n",
       "      <th></th>\n",
       "      <th>rest_bp</th>\n",
       "    </tr>\n",
       "    <tr>\n",
       "      <th>sex</th>\n",
       "      <th></th>\n",
       "    </tr>\n",
       "  </thead>\n",
       "  <tbody>\n",
       "    <tr>\n",
       "      <th>Female</th>\n",
       "      <td>133.340206</td>\n",
       "    </tr>\n",
       "    <tr>\n",
       "      <th>Male</th>\n",
       "      <td>130.912621</td>\n",
       "    </tr>\n",
       "  </tbody>\n",
       "</table>\n",
       "</div>"
      ],
      "text/plain": [
       "           rest_bp\n",
       "sex               \n",
       "Female  133.340206\n",
       "Male    130.912621"
      ]
     },
     "execution_count": 72,
     "metadata": {},
     "output_type": "execute_result"
    }
   ],
   "source": [
    "heart.groupby(\"sex\").agg({\"rest_bp\": \"mean\"})"
   ]
  },
  {
   "attachments": {},
   "cell_type": "markdown",
   "id": "0068f5ac",
   "metadata": {
    "slideshow": {
     "slide_type": "slide"
    }
   },
   "source": [
    "### Question 2\n",
    "\n",
    "What is the mean and median cholesterol levels for males and females?"
   ]
  },
  {
   "cell_type": "code",
   "execution_count": 74,
   "id": "a34fe90b",
   "metadata": {
    "slideshow": {
     "slide_type": "fragment"
    }
   },
   "outputs": [
    {
     "data": {
      "text/html": [
       "<div>\n",
       "<style scoped>\n",
       "    .dataframe tbody tr th:only-of-type {\n",
       "        vertical-align: middle;\n",
       "    }\n",
       "\n",
       "    .dataframe tbody tr th {\n",
       "        vertical-align: top;\n",
       "    }\n",
       "\n",
       "    .dataframe thead tr th {\n",
       "        text-align: left;\n",
       "    }\n",
       "\n",
       "    .dataframe thead tr:last-of-type th {\n",
       "        text-align: right;\n",
       "    }\n",
       "</style>\n",
       "<table border=\"1\" class=\"dataframe\">\n",
       "  <thead>\n",
       "    <tr>\n",
       "      <th></th>\n",
       "      <th colspan=\"2\" halign=\"left\">chol</th>\n",
       "    </tr>\n",
       "    <tr>\n",
       "      <th></th>\n",
       "      <th>mean</th>\n",
       "      <th>median</th>\n",
       "    </tr>\n",
       "    <tr>\n",
       "      <th>sex</th>\n",
       "      <th></th>\n",
       "      <th></th>\n",
       "    </tr>\n",
       "  </thead>\n",
       "  <tbody>\n",
       "    <tr>\n",
       "      <th>Female</th>\n",
       "      <td>261.752577</td>\n",
       "      <td>254.0</td>\n",
       "    </tr>\n",
       "    <tr>\n",
       "      <th>Male</th>\n",
       "      <td>239.601942</td>\n",
       "      <td>235.0</td>\n",
       "    </tr>\n",
       "  </tbody>\n",
       "</table>\n",
       "</div>"
      ],
      "text/plain": [
       "              chol       \n",
       "              mean median\n",
       "sex                      \n",
       "Female  261.752577  254.0\n",
       "Male    239.601942  235.0"
      ]
     },
     "execution_count": 74,
     "metadata": {},
     "output_type": "execute_result"
    }
   ],
   "source": [
    "heart.groupby(\"sex\").agg({\n",
    "    \"chol\": [\"mean\", \"median\"]\n",
    "})"
   ]
  },
  {
   "attachments": {},
   "cell_type": "markdown",
   "id": "45b3ed3e",
   "metadata": {
    "slideshow": {
     "slide_type": "slide"
    }
   },
   "source": [
    "### Question 3\n",
    "\n",
    "Which age group has the largest median cholesterol levels for males?"
   ]
  },
  {
   "cell_type": "code",
   "execution_count": 90,
   "id": "029f8faf",
   "metadata": {
    "slideshow": {
     "slide_type": "fragment"
    }
   },
   "outputs": [
    {
     "data": {
      "text/plain": [
       "80.0"
      ]
     },
     "execution_count": 90,
     "metadata": {},
     "output_type": "execute_result"
    }
   ],
   "source": [
    "heart[heart[\"sex\"] == \"Male\"].groupby(\n",
    "    \"age_group\", as_index=False\n",
    ").agg(\n",
    "    {\"chol\": \"median\"}\n",
    ").sort_values(\n",
    "    \"chol\", ascending=False\n",
    ").iloc[0][\"age_group\"]"
   ]
  },
  {
   "attachments": {},
   "cell_type": "markdown",
   "id": "024c0858",
   "metadata": {
    "slideshow": {
     "slide_type": "slide"
    }
   },
   "source": [
    "### Question 4\n",
    "\n",
    "Compute mean `risk` value (the `risk` column was created in problem 2 of the \"Manipulating data\" section) for each age and sex. Which gender and age group has the highest average risk value?"
   ]
  },
  {
   "cell_type": "code",
   "execution_count": 95,
   "id": "426cdf8a",
   "metadata": {
    "slideshow": {
     "slide_type": "fragment"
    }
   },
   "outputs": [
    {
     "data": {
      "text/plain": [
       "age_group          80\n",
       "sex            Female\n",
       "risk         0.150236\n",
       "Name: 8, dtype: object"
      ]
     },
     "execution_count": 95,
     "metadata": {},
     "output_type": "execute_result"
    }
   ],
   "source": [
    "heart.groupby(\n",
    "    [\"age_group\", \"sex\"], as_index=False\n",
    ").agg(\n",
    "    {\"risk\": \"mean\"}\n",
    ").sort_values(\n",
    "    \"risk\", ascending=False\n",
    ").iloc[0]\n"
   ]
  }
 ],
 "metadata": {
  "kernelspec": {
   "display_name": "cincinnati-insurance-training",
   "language": "python",
   "name": "python3"
  },
  "language_info": {
   "codemirror_mode": {
    "name": "ipython",
    "version": 3
   },
   "file_extension": ".py",
   "mimetype": "text/x-python",
   "name": "python",
   "nbconvert_exporter": "python",
   "pygments_lexer": "ipython3",
   "version": "3.10.9"
  },
  "vscode": {
   "interpreter": {
    "hash": "79aa2c5d11f12b7c57627b6a735527056c602300bf7f8df9eb7644ad79595ce0"
   }
  }
 },
 "nbformat": 4,
 "nbformat_minor": 5
}
