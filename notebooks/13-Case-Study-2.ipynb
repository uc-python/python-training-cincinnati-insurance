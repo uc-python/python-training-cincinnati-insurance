{
 "cells": [
  {
   "cell_type": "markdown",
   "id": "338d1142-6b5b-4ad2-bb91-437a857e6315",
   "metadata": {
    "slideshow": {
     "slide_type": "slide"
    },
    "tags": []
   },
   "source": [
    "# Case Study 2"
   ]
  },
  {
   "cell_type": "markdown",
   "id": "a33defda-44e4-4a99-b591-ee7a33e419cd",
   "metadata": {
    "slideshow": {
     "slide_type": "slide"
    },
    "tags": []
   },
   "source": [
    "For all Case Study 2 questions we will be using the heart.csv data provided with this case study. Along with the heart.csv data, I have provided a heart_data_dictionary.csv file that provides a description of each column. As you answer the lab questions, it may be beneficial to reference this data dictionary."
   ]
  },
  {
   "attachments": {},
   "cell_type": "markdown",
   "id": "3c209248-b5b0-4365-9f70-d6e3833a2703",
   "metadata": {
    "slideshow": {
     "slide_type": "slide"
    },
    "tags": []
   },
   "source": [
    "## Subsetting data\n",
    "\n",
    "1. Filter the heart data for all observations where the person is 50 years or older. How many observations are there?\n",
    "2. Using the original heart data, filter for those observations that are male and 50 years or older. How many observations are there?\n",
    "3. Using the original heart data, filter for those observations that are female, 50 years or younger, and have the disease (disease = 1). Select `chest_pain`, `chol`, and `max_hr` columns. How many rows and columns are in the resulting DataFrame?"
   ]
  },
  {
   "attachments": {},
   "cell_type": "markdown",
   "id": "482e0f00-b9ae-4559-8756-aee3f5d79ac7",
   "metadata": {
    "slideshow": {
     "slide_type": "slide"
    },
    "tags": []
   },
   "source": [
    "## Manipulating data\n",
    "\n",
    "1. Are there any missing values in this data? If so, which columns? For these columns, fill the missing values with the value that appears most often (aka \"mode\"). This is a multi-step process and it would be worth reviewing the [`.fillna()` docs](https://pandas.pydata.org/docs/reference/api/pandas.DataFrame.fillna.html).\n",
    "2. Create a new column called `risk` that is equal to $ \\frac{age}{\\text{res_bp} + chol + \\text{max_hr}} $. What is the mean of this `risk` column?\n",
    "3. Replace the values in the `rest_ecg` column so that:\n",
    "   - normal = normal\n",
    "   - left ventricular hypertrophy = lvh\n",
    "   - ST-T wave abnormality = stt_wav_abn\n",
    "   **Hint**: one of the original values may have an extra space at the end of the name!\n",
    "     How many observations fall into each of the new `rest_ecg` categories?"
   ]
  },
  {
   "cell_type": "markdown",
   "id": "2bf89c77-dcbe-478d-9876-1de886a3534e",
   "metadata": {
    "slideshow": {
     "slide_type": "slide"
    },
    "tags": []
   },
   "source": [
    "## Summarizing data\n",
    "\n",
    "1. What is the mean resting blood pressure for males and females?\n",
    "2. What is the mean and median cholesterol levels for males and females?\n",
    "3. Which age group has the largest median cholesterol levels for males?\n",
    "4. Compute mean `risk` value (the `risk` column was created in problem 2 of the \"Manipulating data\" section) for each age and sex. Which gender and age group has the highest average risk value?"
   ]
  }
 ],
 "metadata": {
  "kernelspec": {
   "display_name": "Python 3 (ipykernel)",
   "language": "python",
   "name": "python3"
  },
  "language_info": {
   "codemirror_mode": {
    "name": "ipython",
    "version": 3
   },
   "file_extension": ".py",
   "mimetype": "text/x-python",
   "name": "python",
   "nbconvert_exporter": "python",
   "pygments_lexer": "ipython3",
   "version": "3.10.0"
  }
 },
 "nbformat": 4,
 "nbformat_minor": 5
}
