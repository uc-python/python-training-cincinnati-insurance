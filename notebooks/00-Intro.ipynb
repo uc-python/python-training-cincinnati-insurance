{
 "cells": [
  {
   "attachments": {},
   "cell_type": "markdown",
   "metadata": {
    "slideshow": {
     "slide_type": "slide"
    }
   },
   "source": [
    "# Introduction to Python for Data Science"
   ]
  },
  {
   "attachments": {},
   "cell_type": "markdown",
   "metadata": {
    "slideshow": {
     "slide_type": "slide"
    }
   },
   "source": [
    "## Instructors"
   ]
  },
  {
   "attachments": {},
   "cell_type": "markdown",
   "metadata": {
    "slideshow": {
     "slide_type": "slide"
    }
   },
   "source": [
    "## Brad Boehmke\n",
    "<table><tr>\n",
    "    <td><img width=\"300\" src=\"images/brad.jpg\"></td>\n",
    "    <td>\n",
    "      <h4><strong>Director, Labs</strong> at 84.51&deg;</h4>\n",
    "      <h4>Academic</h4>\n",
    "      <ul>\n",
    "          <li>BS, Kinesiology, North Dakota State University</li>\n",
    "          <li>MS, Cost Analytics, Air Force Institute of Technology</li>\n",
    "          <li>PhD, Logistics, Air Force Institute of Technology</li>\n",
    "      </ul>\n",
    "      <h4>Contact</h4>\n",
    "      <ul>\n",
    "          <li>Website: <a href=\"http://bradleyboehmke.github.io/\">bradleyboehmke.github.io</a></li>\n",
    "          <li>GitHub: <a href=\"https://github.com/bradleyboehmke\">bradleyboehmke</a></li>\n",
    "          <li>Twitter: <a href=\"https://twitter.com/bradleyboehmke\">@bradleyboehmke</a></li>\n",
    "          <li>LinkedIn: <a href=\"https://www.linkedin.com/in/brad-boehmke-ph-d-9b0a257\">Brad Boehmke, PhD</a></li>\n",
    "          <li>Email: <a href=\"mailto:bradleyboehmke@gmail.com\">bradleyboehmke@gmail.com</a></li>\n",
    "      </ul>\n",
    "    </td>\n",
    "</tr></table>"
   ]
  },
  {
   "attachments": {},
   "cell_type": "markdown",
   "metadata": {
    "slideshow": {
     "slide_type": "slide"
    }
   },
   "source": [
    "## Ethan Swan\n",
    "<table><tr>\n",
    "  <td><img width=\"300\" src=\"images/ethan.jpg\"></td>\n",
    "  <td>\n",
    "    <h3><strong>Senior Backend Engineer</strong> at ReviewTrackers</h3>\n",
    "    <ul>\n",
    "      <li>Rest API development</li>\n",
    "      <li>Putting ML models in production</li>\n",
    "      <li>Python, Go, Ruby, & ReactJS (JavaScript)</li>\n",
    "    </ul>\n",
    "    <h4>Academic</h4>\n",
    "    <ul>\n",
    "        <li>BS, Computer Science, University of Notre Dame</li>\n",
    "        <li>MBA, Business Analytics, University of Notre Dame</li>\n",
    "    </ul>\n",
    "    <h4>Contact</h4>\n",
    "    <ul>\n",
    "        <li>Website: <a href=\"https://ethanswan.com\">ethanswan.com</a></li>\n",
    "        <li>GitHub: <a href=\"https://github.com/eswan18/\">eswan18</a></li>\n",
    "        <li>Twitter: <a href=\"https://twitter.com/eswan18\">@eswan18</a></li>\n",
    "        <li>LinkedIn: <a href=\"https://linkedin.com/in/ethanpswan\">Ethan Swan</a></li>\n",
    "        <li>Email: <a href=\"mailto:ethanpswan@gmail.com\">ethanpswan@gmail.com</a></li>\n",
    "    </ul>\n",
    "    </td>\n",
    "</tr></table>"
   ]
  },
  {
   "attachments": {},
   "cell_type": "markdown",
   "metadata": {
    "slideshow": {
     "slide_type": "slide"
    }
   },
   "source": [
    "## Jay Cunningham\n",
    "<table><tr>\n",
    "  <td><img width=\"300\" src=\"images/jay.jpg\"></td>\n",
    "  <td>\n",
    "    <h3><strong>?</strong> at 84.51&deg;</h3>\n",
    "    <ul>\n",
    "      <li>Rest API development</li>\n",
    "      <li>Putting ML models in production</li>\n",
    "      <li>Python, Go, Ruby, & ReactJS (JavaScript)</li>\n",
    "    </ul>\n",
    "    <h4>Academic</h4>\n",
    "    <ul>\n",
    "        <li>BS, ?</li>\n",
    "    </ul>\n",
    "    <h4>Contact</h4>\n",
    "    <ul>\n",
    "    </ul>\n",
    "    </td>\n",
    "</tr></table>"
   ]
  },
  {
   "attachments": {},
   "cell_type": "markdown",
   "metadata": {
    "slideshow": {
     "slide_type": "slide"
    }
   },
   "source": [
    "## Gus Powers\n",
    "<table><tr>\n",
    "  <td><img width=\"300\" src=\"images/gus.jpg\"></td>\n",
    "  <td>\n",
    "    <h3><strong>?</strong> at 84.51&deg;</h3>\n",
    "    <ul>\n",
    "      <li>Rest API development</li>\n",
    "      <li>Putting ML models in production</li>\n",
    "      <li>Python, Go, Ruby, & ReactJS (JavaScript)</li>\n",
    "    </ul>\n",
    "    <h4>Academic</h4>\n",
    "    <ul>\n",
    "        <li>BS, ?</li>\n",
    "    </ul>\n",
    "    <h4>Contact</h4>\n",
    "    <ul>\n",
    "    </ul>\n",
    "    </td>\n",
    "</tr></table>"
   ]
  },
  {
   "cell_type": "markdown",
   "metadata": {
    "slideshow": {
     "slide_type": "slide"
    }
   },
   "source": [
    "### Around The Room\n",
    "\n",
    "We'll go around the room. Please share:\n",
    "\n",
    "1. Your name\n",
    "2. Your job or field\n",
    "3. How you use Python now or would like to in the future"
   ]
  },
  {
   "cell_type": "markdown",
   "metadata": {
    "slideshow": {
     "slide_type": "slide"
    }
   },
   "source": [
    "## Course"
   ]
  },
  {
   "cell_type": "markdown",
   "metadata": {
    "slideshow": {
     "slide_type": "slide"
    }
   },
   "source": [
    "### Defining Data Science\n",
    "\n",
    "<center>\n",
    "<img src=\"images/data-science.png\" alt=\"data-science.png\" width=\"900\" height=\"900\">\n",
    "</center>"
   ]
  },
  {
   "cell_type": "markdown",
   "metadata": {
    "slideshow": {
     "slide_type": "slide"
    }
   },
   "source": [
    "### Data Science and Technology\n",
    "\n",
    "<center>\n",
    "<img src=\"images/data-science-and-tech.png\" alt=\"data-science-and-tech.png\" width=\"1100\" height=\"1100\">\n",
    "</center>"
   ]
  },
  {
   "cell_type": "markdown",
   "metadata": {
    "slideshow": {
     "slide_type": "slide"
    }
   },
   "source": [
    "### Applied Data Science\n",
    "\n",
    "<center>\n",
    "<img src=\"images/applied-data-science.gif\" alt=\"applied-data-science.gif\" width=\"1200\" height=\"1200\">\n",
    "</center>"
   ]
  },
  {
   "cell_type": "markdown",
   "metadata": {
    "slideshow": {
     "slide_type": "slide"
    }
   },
   "source": [
    "## Course Objectives\n",
    "\n",
    "The following are the primary learning objectives of this course:"
   ]
  },
  {
   "attachments": {},
   "cell_type": "markdown",
   "metadata": {
    "slideshow": {
     "slide_type": "fragment"
    }
   },
   "source": [
    "1. Build familiarity with the Python language, so that students can solve simple problems with code.\n",
    "2. Gain experience with data wrangling tasks: importing/exporting, filtering & selecting, aggregating, and joining data.\n",
    "3. Establish a mental model of the Python data science ecosystem to enable learning beyond this course."
   ]
  },
  {
   "cell_type": "markdown",
   "metadata": {
    "slideshow": {
     "slide_type": "slide"
    }
   },
   "source": [
    "## Course Agenda"
   ]
  },
  {
   "attachments": {},
   "cell_type": "markdown",
   "metadata": {
    "slideshow": {
     "slide_type": "slide"
    }
   },
   "source": [
    "| Day       | Topic                                                                          |     Time      |\n",
    "| :--------:| :----------------------------------------------------------------------------- | :-----------: |\n",
    "| __Day 1__ | Introductions                                                                  |  1:00 - 1:15  |\n",
    "|           | Python, VSCode, & Notebooks                                                    |  1:15 - 1:45  |\n",
    "|           | Variables, Operators, & Types                                                  |  1:45 - 2:45  |\n",
    "|           | Break                                                                          |  2:45 - 3:00  |\n",
    "|           | Data Structures                                                                |  3:00 - 3:30  |\n",
    "|           | Conditional Statements                                                         |  3:30 - 4:00  |\n",
    "|           | Q\\&A                                                                           |  4:00 - 4:30  |\n",
    "| __Day 2__ | Q\\&A                                                                           | 12:30 - 1:00  |\n",
    "|           | Iteration                                                                      |  1:00 - 1:45  |\n",
    "|           | Writing Functions                                                              |  1:45 - 2:30  |\n",
    "|           | Break                                                                          |  2:30 - 2:45  |\n",
    "|           | Case Study, pt. 1                                                              |  2:45 - 4:00  |\n",
    "|           | Case Study Review; Q&A                                                         |  4:00 - 4:30  |\n",
    "| __Day 3__ | Q\\&A                                                                           | 12:30 - 1:00  |\n",
    "|           | Packages, Libraries, & Modules                                                 |  1:00 - 2:00  |\n",
    "|           | Importing Data                                                                 |  2:00 - 2:30  |\n",
    "|           | Break                                                                          |  2:30 - 2:45  |\n",
    "|           | Intro to Pandas                                                                |  2:45 - 4:00  |\n",
    "|           | Q\\&A                                                                           |  4:00 - 4:30  |\n",
    "| __Day 4__ | Q\\&A                                                                           | 12:30 - 1:00  |\n",
    "|           | Advanced Pandas                                                                |  1:00 - 1:45  |\n",
    "|           | Python from the Shell                                                          |  1:45 - 2:30  |\n",
    "|           | Case Study, pt. 2                                                              |  2:30 - 3:45  |\n",
    "|           | Case Study Review; Concluding Remarks                                          |  3:45 - 4:30  |"
   ]
  },
  {
   "cell_type": "markdown",
   "metadata": {
    "slideshow": {
     "slide_type": "slide"
    }
   },
   "source": [
    "## Technologies"
   ]
  },
  {
   "cell_type": "markdown",
   "metadata": {
    "cell_style": "center",
    "slideshow": {
     "slide_type": "slide"
    }
   },
   "source": [
    "### Binder\n",
    "\n",
    "* We've developed this class using a product named [Binder](https://mybinder.org/).\n",
    "* As a result, this course requires *zero* setup on your part.\n",
    "* There are two core techologies within the Binder repository: Python and Jupyter.\n",
    "\n",
    "*We will cover more on this shortly.*"
   ]
  },
  {
   "cell_type": "markdown",
   "metadata": {
    "cell_style": "split",
    "slideshow": {
     "slide_type": "slide"
    }
   },
   "source": [
    "### Python\n",
    "\n",
    "* Python is the programming language we'll be learning in this class.\n",
    "* We are using Python 3.9, the newest version of Python, for the entirety of this class.\n",
    "* The core libaries we will be using are `pandas` and `seaborn`."
   ]
  },
  {
   "cell_type": "markdown",
   "metadata": {
    "cell_style": "split",
    "slideshow": {
     "slide_type": "fragment"
    }
   },
   "source": [
    "### Jupyter\n",
    "\n",
    "* Jupyter is the integrated development environment (IDE) we will be using.\n",
    "* This is where we will write and run our Python code.\n"
   ]
  },
  {
   "cell_type": "markdown",
   "metadata": {
    "slideshow": {
     "slide_type": "slide"
    }
   },
   "source": [
    "## Course Material"
   ]
  },
  {
   "cell_type": "markdown",
   "metadata": {
    "slideshow": {
     "slide_type": "fragment"
    }
   },
   "source": [
    "* All of the material for this course can be reached from our [GitHub](https://github.com/uc-python/intro-python-datasci) repository."
   ]
  },
  {
   "cell_type": "markdown",
   "metadata": {
    "slideshow": {
     "slide_type": "fragment"
    }
   },
   "source": [
    "* You can either access this material through [Binder](https://mybinder.org/v2/gh/uc-python/intro-python-datasci/master) or by [downloading the material](https://github.com/uc-python/intro-python-datasci/archive/master.zip)\n",
    " and opening it via Anaconda Navigator and JupyterLab."
   ]
  },
  {
   "cell_type": "markdown",
   "metadata": {
    "slideshow": {
     "slide_type": "slide"
    }
   },
   "source": [
    "### Slides *are* notebooks"
   ]
  },
  {
   "cell_type": "markdown",
   "metadata": {
    "slideshow": {
     "slide_type": "fragment"
    }
   },
   "source": [
    "* We will be teaching using slides."
   ]
  },
  {
   "cell_type": "markdown",
   "metadata": {
    "slideshow": {
     "slide_type": "fragment"
    }
   },
   "source": [
    "* These slides are created from the notebooks in the course repository -- so you can follow along and run the code in your notebook."
   ]
  },
  {
   "cell_type": "markdown",
   "metadata": {
    "slideshow": {
     "slide_type": "slide"
    }
   },
   "source": [
    "### Source Code"
   ]
  },
  {
   "cell_type": "markdown",
   "metadata": {
    "slideshow": {
     "slide_type": "fragment"
    }
   },
   "source": [
    "* Source code for the training can be found on [GitHub](https://github.com/uc-python/intro-python-datasci)."
   ]
  },
  {
   "cell_type": "markdown",
   "metadata": {
    "slideshow": {
     "slide_type": "fragment"
    }
   },
   "source": [
    "* This repository is public so you can clone (download) and/or refer to the materials at any point in the future."
   ]
  },
  {
   "cell_type": "markdown",
   "metadata": {
    "slideshow": {
     "slide_type": "slide"
    }
   },
   "source": [
    "## Questions\n",
    "\n",
    "Are there any questions before moving on?"
   ]
  }
 ],
 "metadata": {
  "celltoolbar": "Slideshow",
  "kernelspec": {
   "display_name": "cincinnati-insurance-training",
   "language": "python",
   "name": "python3"
  },
  "language_info": {
   "codemirror_mode": {
    "name": "ipython",
    "version": 3
   },
   "file_extension": ".py",
   "mimetype": "text/x-python",
   "name": "python",
   "nbconvert_exporter": "python",
   "pygments_lexer": "ipython3",
   "version": "3.10.9 (main, Jan 11 2023, 09:18:18) [Clang 14.0.6 ]"
  },
  "rise": {
   "autolaunch": true,
   "transition": "none"
  },
  "vscode": {
   "interpreter": {
    "hash": "c4cee4f8724a1b73463c6297bde7b85a0049c911616c350314b043f027f9091a"
   }
  }
 },
 "nbformat": 4,
 "nbformat_minor": 4
}
